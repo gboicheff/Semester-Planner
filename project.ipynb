{
 "cells": [
  {
   "cell_type": "code",
   "execution_count": 1,
   "metadata": {},
   "outputs": [],
   "source": [
    "using Catlab\n",
    "using Catlab.CategoricalAlgebra\n",
    "using Catlab.Graphs\n",
    "using Catlab.Graphs.BasicGraphs\n",
    "using Catlab.Graphics\n",
    "using Catlab.Graphics.Graphviz\n",
    "using Catlab.Graphics.GraphvizGraphs\n",
    "using Catlab.Graphs.PropertyGraphs\n",
    "using Catlab.CategoricalAlgebra.CSets\n",
    "using Catlab.CategoricalAlgebra.FinSets, Catlab.CategoricalAlgebra\n",
    "using DataStructures\n",
    "using Colors\n",
    "using Random"
   ]
  },
  {
   "cell_type": "markdown",
   "metadata": {},
   "source": [
    "# Why Preorders?"
   ]
  },
  {
   "cell_type": "code",
   "execution_count": null,
   "metadata": {},
   "outputs": [],
   "source": [
    "# taken from programming exercise 1\n",
    "struct Preorder\n",
    "  carrier:: FinSet\n",
    "  relation :: SortedSet{Pair{Int,Int}}\n",
    "  \"\"\"Construct valid preorder by taking reflexive/transitive closure\"\"\"\n",
    "  function Preorder(carrier:: FinSet, rel :: Vector{Pair{Int,Int}})\n",
    "    for (a,b) ∈ rel\n",
    "      a ∈ carrier && b ∈ carrier || error(\"relation element not in carrier set\")\n",
    "    end\n",
    "    relation = SortedSet(rel)\n",
    "    for (a, b, c) in Iterators.product(carrier, carrier, carrier)\n",
    "      if ((a => b) ∈ relation) && ((b => c) ∈ relation)\n",
    "        push!(relation, a => c) # enforces relation is transitive\n",
    "      end\n",
    "    end\n",
    "    for i in carrier\n",
    "      push!(relation, i => i) # enforces that relation is reflexive\n",
    "    end\n",
    "    return new(carrier, relation)\n",
    "  end\n",
    "end"
   ]
  },
  {
   "cell_type": "code",
   "execution_count": null,
   "metadata": {},
   "outputs": [],
   "source": [
    "# function to parse major requirement files\n",
    "function load_major(path::String, taken_classes::Set{String}=Set{String}())\n",
    "\n",
    "    file = open(path, \"r\")\n",
    "\n",
    "    num_to_class = Dict()\n",
    "    class_to_num = Dict()\n",
    "\n",
    "    relations = Vector{Pair{Int, Int}}()\n",
    "\n",
    "    num_classes = 0\n",
    "    while !eof(file)\n",
    "        line = readline(file)\n",
    "        if length(strip(line, ' ')) != 0\n",
    "            sp = split(line, \":\")\n",
    "\n",
    "            if length(sp) >= 1\n",
    "                name = strip(sp[1], ' ')\n",
    "                if !in(name, taken_classes)\n",
    "                    num_classes+=1\n",
    "                    num_to_class[num_classes] = string(name)\n",
    "                    class_to_num[string(name)] = num_classes\n",
    "                end\n",
    "\n",
    "                if length(sp) >= 2\n",
    "                    reqs_str = strip(sp[2], ['[', ']', ' '])\n",
    "                    reqs = split(reqs_str, \",\")\n",
    "                    \n",
    "                    for req in reqs\n",
    "                        req = strip(req, ' ')\n",
    "                        if length(req) > 0\n",
    "                            if !in(req, taken_classes) && in(name, taken_classes)\n",
    "                                throw(\"At least one class taken has missing prereqs!\")\n",
    "                            end\n",
    "                            if !in(req, taken_classes)\n",
    "                                push!(relations, class_to_num[req] => class_to_num[name])\n",
    "                            end\n",
    "                        end\n",
    "                    end\n",
    "                end\n",
    "            end\n",
    "        end\n",
    "    end\n",
    "\n",
    "    close(file)\n",
    "\n",
    "\n",
    "    return (Preorder(FinSet(num_classes),relations), num_to_class)\n",
    "end"
   ]
  },
  {
   "cell_type": "code",
   "execution_count": null,
   "metadata": {},
   "outputs": [],
   "source": [
    "# load full degree requirements into preorder\n",
    "cs, cs_mappings = load_major(\"reqs/CS.reqs\")"
   ]
  },
  {
   "cell_type": "code",
   "execution_count": null,
   "metadata": {},
   "outputs": [],
   "source": [
    "# load degree requirements without some classes that were already taken into preorder\n",
    "taken_classes = Set{String}([\"MAC2311\", \"COP3502\"])\n",
    "new_cs, mapping = load_major(\"reqs/CS.reqs\", taken_classes)"
   ]
  },
  {
   "cell_type": "code",
   "execution_count": null,
   "metadata": {},
   "outputs": [],
   "source": [
    "# try to load degree requirements with invalid classes taken\n",
    "taken_classes = Set{String}([\"COP4600\"])\n",
    "new_cs, mapping = load_major(\"reqs/CS.reqs\", taken_classes)"
   ]
  },
  {
   "cell_type": "code",
   "execution_count": null,
   "metadata": {},
   "outputs": [],
   "source": [
    "# finds elements with no edges in or out\n",
    "function find_one_offs(preorder::Preorder)\n",
    "    one_offs = Vector()\n",
    "    d = Dict()\n",
    "    for class in collect(preorder.carrier)\n",
    "        d[class] = true\n",
    "    end\n",
    "    for (a,b) in preorder.relation\n",
    "        if a != b\n",
    "            d[a] = false\n",
    "            d[b] = false\n",
    "        end\n",
    "    end\n",
    "    for (class, is_one_off) in d\n",
    "        if is_one_off\n",
    "            push!(one_offs, class)\n",
    "        end\n",
    "    end\n",
    "    return Set(one_offs)\n",
    "end\n",
    "\n",
    "function generate_schedule(preorder::Preorder, num_semesters::Int=8, seed::Int=0)\n",
    "    Random.seed!(seed)\n",
    "\n",
    "    classes = collect(preorder.carrier)\n",
    "    reqs = preorder.relation\n",
    "\n",
    "    full_schedule = Vector()\n",
    "\n",
    "    one_off_classes = find_one_offs(preorder)\n",
    "\n",
    "\n",
    "    # build dictionary of in counts like in topological sort\n",
    "    in_counts = Dict()\n",
    "    for class in classes\n",
    "        # ignore one off classes for now\n",
    "        if !(class in one_off_classes)\n",
    "            in_counts[class] = 0\n",
    "            for (a,b) in preorder.relation\n",
    "                if class == b && a != b\n",
    "                    in_counts[class]+=1\n",
    "                end\n",
    "            end\n",
    "        end\n",
    "    end\n",
    "\n",
    "\n",
    "    # schedule classes with prereqs\n",
    "    for index in 1:num_semesters\n",
    "        semester_schedule = Vector()\n",
    "\n",
    "        available_classes = Set(collect(in_counts))\n",
    "\n",
    "        # find bottoms\n",
    "        # marking them for deletion\n",
    "        for (class, in_count) in shuffle!(collect(available_classes))\n",
    "            if in_count == 0 && length(semester_schedule) < ceil(length(preorder.carrier)/num_semesters)\n",
    "                push!(semester_schedule, class)\n",
    "            end\n",
    "        end\n",
    "\n",
    "        # delete taken classes\n",
    "        for class in semester_schedule\n",
    "            for (a,b) in preorder.relation\n",
    "                if class == a\n",
    "                    in_counts[b]-=1\n",
    "                end\n",
    "            end\n",
    "            delete!(in_counts, class)\n",
    "        end\n",
    "\n",
    "        push!(full_schedule, semester_schedule)\n",
    "    end\n",
    "\n",
    "\n",
    "    # schedule classes with no prereqs\n",
    "    # prioritizing even credit distribution\n",
    "    while length(one_off_classes) > 0\n",
    "        \n",
    "        # find semester with min number of credits\n",
    "        min_index = 1\n",
    "        for (index, semester) in enumerate(full_schedule)\n",
    "            if length(full_schedule[index]) < length(full_schedule[min_index])\n",
    "                min_index = index\n",
    "            end \n",
    "        end\n",
    "        \n",
    "        class_to_add = collect(one_off_classes)[1]\n",
    "        push!(full_schedule[min_index], class_to_add)\n",
    "        delete!(one_off_classes, class_to_add)\n",
    "    end\n",
    "\n",
    "    # check that all classes were fit into the schedule\n",
    "    if length(one_off_classes) > 0 || length(collect(in_counts)) > 0\n",
    "        throw(\"Cannot generate schedule!\")\n",
    "    end\n",
    "\n",
    "    return full_schedule\n",
    "end"
   ]
  },
  {
   "cell_type": "code",
   "execution_count": null,
   "metadata": {},
   "outputs": [],
   "source": [
    "function convert_to_readable(schedule, mapping)\n",
    "    for (i,semester_schedule) in enumerate(schedule)\n",
    "        for (j,semester_schedule) in enumerate(semester_schedule)\n",
    "            schedule[i][j] = mapping[schedule[i][j]]\n",
    "        end\n",
    "    end\n",
    "    return schedule\n",
    "end"
   ]
  },
  {
   "cell_type": "code",
   "execution_count": null,
   "metadata": {},
   "outputs": [],
   "source": [
    "# output basic plan\n",
    "cs, cs_mapping = load_major(\"reqs/CS.reqs\")\n",
    "schedule = generate_schedule(cs, 8)\n",
    "output_plan(schedule, \"semester_plans/example1.plan\", cs_mapping)\n",
    "convert_to_readable(schedule, cs_mappings)"
   ]
  },
  {
   "cell_type": "code",
   "execution_count": null,
   "metadata": {},
   "outputs": [],
   "source": [
    "# output plan considering the taken classes\n",
    "taken_classes = Set{String}([\"MAC2311\", \"COP3502\"])\n",
    "new_cs, new_mapping = load_major(\"reqs/CS.reqs\", taken_classes)\n",
    "new_schedule = generate_schedule(new_cs, 8)\n",
    "convert_to_readable(new_schedule, new_mapping)"
   ]
  },
  {
   "cell_type": "code",
   "execution_count": null,
   "metadata": {},
   "outputs": [],
   "source": [
    "# output plan with more classes taken\n",
    "taken_classes = Set{String}([\"MAC2311\", \"MAC2312\", \"MAC2313\", \"COP3502\", \"COP3503\", \"EGS4034\", \"STA3032\", \"PHY2048/PHY2048L\"])\n",
    "new_cs, new_mapping = load_major(\"reqs/CS.reqs\", taken_classes)\n",
    "new_schedule = generate_schedule(new_cs, 6)\n",
    "convert_to_readable(new_schedule, new_mapping)"
   ]
  },
  {
   "cell_type": "code",
   "execution_count": null,
   "metadata": {},
   "outputs": [],
   "source": [
    "struct Monotone_map\n",
    "    domain::Preorder\n",
    "    codomain::Preorder\n",
    "    mapping::FinFunction\n",
    "    function Monotone_map(domain::Preorder, cod::Preorder, mapping::FinFunction)\n",
    "      ((dom(mapping) == domain.carrier) && (codom(mapping) == cod.carrier)\n",
    "      ) || error(\"mapping mismatch\")\n",
    "      return new(domain,cod,mapping)\n",
    "    end\n",
    "  end\n",
    "\n",
    "\n",
    "function is_monotone(mm::Monotone_map)::Bool\n",
    "    for comp in mm.domain.relation\n",
    "        mapL = mm.mapping(comp.first)\n",
    "        mapR = mm.mapping(comp.second)\n",
    "        mono=false\n",
    "        \n",
    "        if(comp.first == comp.second) #reflexive relation\n",
    "          continue\n",
    "        end\n",
    "        if(mapL == mapR) #pre req and class taken in same semeester\n",
    "          return false;\n",
    "        end\n",
    "\n",
    "        for comparison in mm.codomain.relation\n",
    "\n",
    "            if(mapL == comparison.first && mapR == comparison.second)\n",
    "                mono=true\n",
    "            end\n",
    "        end\n",
    "        if(!mono)\n",
    "            return false\n",
    "        end\n",
    "    end\n",
    "    return true\n",
    "end"
   ]
  },
  {
   "cell_type": "code",
   "execution_count": null,
   "metadata": {},
   "outputs": [],
   "source": [
    "#check that the generated schedule creates a monotone map onto 8 semesters\n",
    "cs, cs_mapping = load_major(\"reqs/CS.reqs\")\n",
    "schedule = generate_schedule(cs, 8)\n",
    "\n",
    "semester_preorder = Preorder(FinSet(8), [1=>2, 2=>3, 3=>4, 4=>5, 5=>6, 6=>7, 7=>8])\n",
    "\n",
    "indices = Vector{Int}(undef,length(cs.carrier))\n",
    "for (index,semester) in enumerate(schedule)\n",
    "    for class in semester\n",
    "        indices[class] = index\n",
    "    end\n",
    "end\n",
    "\n",
    "\n",
    "\n",
    "\n",
    "f = FinFunction(indices, cs.carrier, semester_preorder.carrier)\n",
    "schedule_map = Monotone_map(cs, semester_preorder, f)"
   ]
  },
  {
   "cell_type": "code",
   "execution_count": null,
   "metadata": {},
   "outputs": [],
   "source": [
    "# check that the generated schedule specifies a monotone map between the req preorder and the semester preorder\n",
    "is_monotone(schedule_map)"
   ]
  },
  {
   "cell_type": "code",
   "execution_count": null,
   "metadata": {},
   "outputs": [],
   "source": [
    "courses = Preorder(FinSet(4), [1=>2, 2=>3, 2=>4])\n",
    "semesters = Preorder(FinSet(3), [1=>2, 2=>3])\n",
    "\n",
    "is_monotone(Monotone_map(courses, semesters, FinFunction([1,2,3,3], FinSet(4), FinSet(3))))"
   ]
  },
  {
   "cell_type": "markdown",
   "metadata": {},
   "source": [
    "INSERT IMAGE FROM SLIDE 10 HERE"
   ]
  },
  {
   "cell_type": "code",
   "execution_count": null,
   "metadata": {},
   "outputs": [],
   "source": [
    "is_monotone(Monotone_map(courses, semesters, FinFunction([2,1,3,3], FinSet(4), FinSet(3))))"
   ]
  },
  {
   "cell_type": "markdown",
   "metadata": {},
   "source": [
    "INSERT IMAGE FROM SLIDE 11 HERE"
   ]
  },
  {
   "cell_type": "code",
   "execution_count": null,
   "metadata": {},
   "outputs": [],
   "source": [
    "is_monotone(Monotone_map(courses, semesters, FinFunction([1,1,2,3], FinSet(4), FinSet(3))))"
   ]
  },
  {
   "cell_type": "markdown",
   "metadata": {},
   "source": [
    "INSERT IMAGE FROM SLIDE 12 HERE"
   ]
  },
  {
   "cell_type": "code",
   "execution_count": null,
   "metadata": {},
   "outputs": [],
   "source": [
    "taken_classes = Set{String}([\"MAC2311\", \"COP3502\"])\n",
    "new_cs, mapping = load_major(\"reqs/CS.reqs\", taken_classes)"
   ]
  }
 ],
 "metadata": {
  "kernelspec": {
   "display_name": "Julia 1.6.2",
   "language": "julia",
   "name": "julia-1.6"
  },
  "language_info": {
   "file_extension": ".jl",
   "mimetype": "application/julia",
   "name": "julia",
   "version": "1.6.2"
  },
  "orig_nbformat": 4
 },
 "nbformat": 4,
 "nbformat_minor": 2
}
