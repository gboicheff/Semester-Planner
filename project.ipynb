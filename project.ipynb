{
 "cells": [
  {
   "cell_type": "code",
   "execution_count": 38,
   "metadata": {},
   "outputs": [],
   "source": [
    "using Catlab\n",
    "using Catlab.CategoricalAlgebra\n",
    "using Catlab.Graphs\n",
    "using Catlab.Graphs.BasicGraphs\n",
    "using Catlab.Graphics\n",
    "using Catlab.Graphics.Graphviz\n",
    "using Catlab.Graphics.GraphvizGraphs\n",
    "using Catlab.Graphs.PropertyGraphs\n",
    "using Catlab.CategoricalAlgebra.CSets\n",
    "using Catlab.CategoricalAlgebra.FinSets, Catlab.CategoricalAlgebra\n",
    "using DataStructures: SortedSet"
   ]
  },
  {
   "cell_type": "code",
   "execution_count": 39,
   "metadata": {},
   "outputs": [
    {
     "data": {
      "text/plain": [
       "draw (generic function with 1 method)"
      ]
     },
     "execution_count": 39,
     "metadata": {},
     "output_type": "execute_result"
    }
   ],
   "source": [
    "draw(g) = to_graphviz(g, node_labels=true)"
   ]
  },
  {
   "cell_type": "code",
   "execution_count": 40,
   "metadata": {},
   "outputs": [],
   "source": [
    "struct Preorder\n",
    "    carrier:: Set{String}\n",
    "    relation :: SortedSet{Pair{String,String}}\n",
    "    \"\"\"Construct valid preorder by taking reflexive/transitive closure\"\"\"\n",
    "    function Preorder(carrier:: Set{String}, rel :: Vector{Pair{String,String}})\n",
    "      for (a,b) ∈ rel\n",
    "        a ∈ carrier && b ∈ carrier || error(\"relation element not in carrier set\")\n",
    "      end\n",
    "      relation = SortedSet(rel)\n",
    "      for (a, b, c) in Iterators.product(carrier, carrier, carrier)\n",
    "        if ((a => b) ∈ relation) && ((b => c) ∈ relation)\n",
    "          push!(relation, a => c) # enforces relation is transitive\n",
    "        end\n",
    "      end\n",
    "      for i in carrier\n",
    "        push!(relation, i => i) # enforces that relation is reflexive\n",
    "      end\n",
    "      return new(carrier, relation)\n",
    "    end\n",
    "  end"
   ]
  },
  {
   "cell_type": "code",
   "execution_count": 41,
   "metadata": {},
   "outputs": [],
   "source": [
    "struct Monotone_map\n",
    "    domain::Preorder\n",
    "    codomain::Preorder\n",
    "    mapping::FinFunction\n",
    "    function Monotone_map(domain::Preorder, cod::Preorder, mapping::FinFunction)\n",
    "      ((dom(mapping) == domain.carrier) && (codom(mapping) == cod.carrier)\n",
    "      ) || error(\"mapping mismatch\")\n",
    "      return new(domain,cod,mapping)\n",
    "    end\n",
    "  end"
   ]
  },
  {
   "cell_type": "code",
   "execution_count": 42,
   "metadata": {},
   "outputs": [
    {
     "data": {
      "text/plain": [
       "is_monotone (generic function with 1 method)"
      ]
     },
     "execution_count": 42,
     "metadata": {},
     "output_type": "execute_result"
    }
   ],
   "source": [
    "function is_monotone(mm::Monotone_map)::Bool\n",
    "    for relation in mm.domain.relation\n",
    "      p = relation[1]\n",
    "      q = relation[2]\n",
    "      if !((mm.mapping(p) => mm.mapping(q)) in mm.codomain.relation)\n",
    "        return false\n",
    "      end\n",
    "    end\n",
    "    return true\n",
    "  end"
   ]
  },
  {
   "cell_type": "code",
   "execution_count": 43,
   "metadata": {},
   "outputs": [
    {
     "data": {
      "text/plain": [
       "load_major (generic function with 1 method)"
      ]
     },
     "execution_count": 43,
     "metadata": {},
     "output_type": "execute_result"
    }
   ],
   "source": [
    "function load_major(path::String)::Preorder\n",
    "    file = open(path, \"r\")\n",
    "    classes = Set{String}()\n",
    "    relations = Vector{Pair{String, String}}()\n",
    "    while !eof(file)\n",
    "        line = readline(file)\n",
    "        if length(strip(line, ' ')) != 0\n",
    "            sp = split(line, \":\")\n",
    "\n",
    "            if length(sp) >= 1\n",
    "                name = strip(sp[1], ' ')\n",
    "                push!(classes, string(name))\n",
    "            end\n",
    "\n",
    "            if length(sp) >= 2\n",
    "                reqs_str = strip(sp[2], ['[', ']', ' '])\n",
    "                reqs = split(reqs_str, \",\")\n",
    "                \n",
    "                for req in reqs\n",
    "                    req = strip(req, ' ')\n",
    "                    if length(req) > 0\n",
    "                        if !in(req, classes)\n",
    "                            push!(classes, req)\n",
    "                        end\n",
    "                        push!(relations, req => name)\n",
    "                    end\n",
    "                end\n",
    "            end\n",
    "        end\n",
    "    end\n",
    "    close(file)\n",
    "    preorder = Preorder(classes, relations)\n",
    "    return preorder\n",
    "end"
   ]
  },
  {
   "cell_type": "code",
   "execution_count": 44,
   "metadata": {},
   "outputs": [
    {
     "data": {
      "text/plain": [
       "Preorder(Set([\"MAC2312\", \"CIS4914\", \"ENC3246\", \"PHY2049L\", \"CNT4007\", \"COP3530\", \"MAC2313\", \"COP4020\", \"CIS4301\", \"COT3100\"  …  \"COP3503\", \"CEN3031\", \"PHY2048\", \"MAS3114\", \"STA3032\", \"COP3502\", \"CDA3101\", \"PHY2048L\", \"MAC2311\", \"PHY2049\"]), SortedSet([\"CDA3101\" => \"CDA3101\", \"CDA3101\" => \"CIS4301\", \"CDA3101\" => \"CNT4007\", \"CDA3101\" => \"COP4600\", \"CEN3031\" => \"CEN3031\", \"CIS4301\" => \"CIS4301\", \"CIS4914\" => \"CIS4914\", \"CNT4007\" => \"CNT4007\", \"COP3502\" => \"CDA3101\", \"COP3502\" => \"CEN3031\"  …  \"PHY2048\" => \"PHY2048\", \"PHY2048\" => \"PHY2048L\", \"PHY2048\" => \"PHY2049\", \"PHY2048L\" => \"PHY2048\", \"PHY2048L\" => \"PHY2048L\", \"PHY2048L\" => \"PHY2049\", \"PHY2049\" => \"PHY2049\", \"PHY2049L\" => \"PHY2049\", \"PHY2049L\" => \"PHY2049L\", \"STA3032\" => \"STA3032\"],\n",
       "Base.Order.ForwardOrdering()))"
      ]
     },
     "execution_count": 44,
     "metadata": {},
     "output_type": "execute_result"
    }
   ],
   "source": [
    "cs = load_major(\"reqs/CS.reqs\")"
   ]
  },
  {
   "cell_type": "code",
   "execution_count": 45,
   "metadata": {},
   "outputs": [
    {
     "data": {
      "text/plain": [
       "Set{String} with 23 elements:\n",
       "  \"MAC2312\"\n",
       "  \"CIS4914\"\n",
       "  \"ENC3246\"\n",
       "  \"PHY2049L\"\n",
       "  \"CNT4007\"\n",
       "  \"COP3530\"\n",
       "  \"MAC2313\"\n",
       "  \"COP4020\"\n",
       "  \"CIS4301\"\n",
       "  \"COT3100\"\n",
       "  \"COP4600\"\n",
       "  \"EGS4034\"\n",
       "  \"COP4533\"\n",
       "  \"COP3503\"\n",
       "  \"CEN3031\"\n",
       "  \"PHY2048\"\n",
       "  \"MAS3114\"\n",
       "  \"STA3032\"\n",
       "  \"COP3502\"\n",
       "  \"CDA3101\"\n",
       "  \"PHY2048L\"\n",
       "  \"MAC2311\"\n",
       "  \"PHY2049\""
      ]
     },
     "execution_count": 45,
     "metadata": {},
     "output_type": "execute_result"
    }
   ],
   "source": [
    "cs.carrier"
   ]
  },
  {
   "cell_type": "code",
   "execution_count": 46,
   "metadata": {},
   "outputs": [
    {
     "data": {
      "text/plain": [
       "SortedSet{Pair{String, String}, Base.Order.ForwardOrdering} with 92 elements:\n",
       "  \"CDA3101\" => \"CDA3101\"\n",
       "  \"CDA3101\" => \"CIS4301\"\n",
       "  \"CDA3101\" => \"CNT4007\"\n",
       "  \"CDA3101\" => \"COP4600\"\n",
       "  \"CEN3031\" => \"CEN3031\"\n",
       "  \"CIS4301\" => \"CIS4301\"\n",
       "  \"CIS4914\" => \"CIS4914\"\n",
       "  \"CNT4007\" => \"CNT4007\"\n",
       "  \"COP3502\" => \"CDA3101\"\n",
       "  \"COP3502\" => \"CEN3031\"\n",
       "  \"COP3502\" => \"CIS4301\"\n",
       "  \"COP3502\" => \"COP3502\"\n",
       "  \"COP3502\" => \"COP3503\"\n",
       "  \"COP3502\" => \"COP3530\"\n",
       "  \"COP3502\" => \"COP4020\"\n",
       "  \"COP3502\" => \"COP4533\"\n",
       "  \"COP3502\" => \"COP4600\"\n",
       "  \"COP3502\" => \"COT3100\"\n",
       "  \"COP3503\" => \"CDA3101\"\n",
       "  \"COP3503\" => \"CEN3031\"\n",
       "  \"COP3503\" => \"CIS4301\"\n",
       "  \"COP3503\" => \"CNT4007\"\n",
       "  \"COP3503\" => \"COP3503\"\n",
       "  \"COP3503\" => \"COP3530\"\n",
       "  \"COP3503\" => \"COP4020\"\n",
       "  ⋮ "
      ]
     },
     "execution_count": 46,
     "metadata": {},
     "output_type": "execute_result"
    }
   ],
   "source": [
    "cs.relation"
   ]
  }
 ],
 "metadata": {
  "kernelspec": {
   "display_name": "Julia 1.6.2",
   "language": "julia",
   "name": "julia-1.6"
  },
  "language_info": {
   "file_extension": ".jl",
   "mimetype": "application/julia",
   "name": "julia",
   "version": "1.6.2"
  },
  "orig_nbformat": 4
 },
 "nbformat": 4,
 "nbformat_minor": 2
}
