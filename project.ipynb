{
 "cells": [
  {
   "cell_type": "code",
   "execution_count": 317,
   "metadata": {},
   "outputs": [],
   "source": [
    "using Catlab\n",
    "using Catlab.CategoricalAlgebra\n",
    "using Catlab.Graphs\n",
    "using Catlab.Graphs.BasicGraphs\n",
    "using Catlab.Graphics\n",
    "using Catlab.Graphics.Graphviz\n",
    "using Catlab.Graphics.GraphvizGraphs\n",
    "using Catlab.Graphs.PropertyGraphs\n",
    "using Catlab.CategoricalAlgebra.CSets\n",
    "using Catlab.CategoricalAlgebra.FinSets, Catlab.CategoricalAlgebra\n",
    "using DataStructures\n",
    "using Colors\n",
    "using Random"
   ]
  },
  {
   "cell_type": "code",
   "execution_count": 318,
   "metadata": {},
   "outputs": [
    {
     "data": {
      "text/plain": [
       "draw (generic function with 1 method)"
      ]
     },
     "metadata": {},
     "output_type": "display_data"
    }
   ],
   "source": [
    "draw(g) = to_graphviz(g, node_labels=true)"
   ]
  },
  {
   "cell_type": "code",
   "execution_count": 319,
   "metadata": {},
   "outputs": [],
   "source": [
    "struct Preorder\n",
    "    carrier:: Set{String}\n",
    "    relation :: SortedSet{Pair{String,String}}\n",
    "    \"\"\"Construct valid preorder by taking reflexive/transitive closure\"\"\"\n",
    "    function Preorder(carrier:: Set{String}, rel :: Vector{Pair{String,String}})\n",
    "      for (a,b) ∈ rel\n",
    "        a ∈ carrier && b ∈ carrier || error(\"relation element not in carrier set\")\n",
    "      end\n",
    "      relation = SortedSet(rel)\n",
    "      for (a, b, c) in Iterators.product(carrier, carrier, carrier)\n",
    "        if ((a => b) ∈ relation) && ((b => c) ∈ relation)\n",
    "          push!(relation, a => c) # enforces relation is transitive\n",
    "        end\n",
    "      end\n",
    "      for i in carrier\n",
    "        push!(relation, i => i) # enforces that relation is reflexive\n",
    "      end\n",
    "      return new(carrier, relation)\n",
    "    end\n",
    "  end"
   ]
  },
  {
   "cell_type": "code",
   "execution_count": 332,
   "metadata": {},
   "outputs": [
    {
     "data": {
      "text/plain": [
       "load_major (generic function with 1 method)"
      ]
     },
     "metadata": {},
     "output_type": "display_data"
    }
   ],
   "source": [
    "function load_major(path::String)::Pair{Set{String}, Vector{Pair{String, String}}}\n",
    "    file = open(path, \"r\")\n",
    "    classes = Set{String}()\n",
    "    relations = Vector{Pair{String, String}}()\n",
    "    while !eof(file)\n",
    "        line = readline(file)\n",
    "        if length(strip(line, ' ')) != 0\n",
    "            sp = split(line, \":\")\n",
    "\n",
    "            if length(sp) >= 1\n",
    "                name = strip(sp[1], ' ')\n",
    "                push!(classes, string(name))\n",
    "            end\n",
    "\n",
    "            if length(sp) >= 2\n",
    "                reqs_str = strip(sp[2], ['[', ']', ' '])\n",
    "                reqs = split(reqs_str, \",\")\n",
    "                \n",
    "                for req in reqs\n",
    "                    req = strip(req, ' ')\n",
    "                    if length(req) > 0\n",
    "                        if !in(req, classes)\n",
    "                            push!(classes, req)\n",
    "                        end\n",
    "                        push!(relations, req => name)\n",
    "                    end\n",
    "                end\n",
    "            end\n",
    "        end\n",
    "    end\n",
    "    close(file)\n",
    "    return classes => relations\n",
    "end"
   ]
  },
  {
   "cell_type": "code",
   "execution_count": 333,
   "metadata": {},
   "outputs": [
    {
     "data": {
      "text/plain": [
       "Set([\"Sem6\", \"Humanities1\", \"Social/Behavioral1\", \"MAC2312\", \"CIS4914\", \"Sem2\", \"ENC3246\", \"CNT4007\", \"Sem8\", \"Sem4\"  …  \"HumOrSocOrPhy1\", \"MAS3114\", \"STA3032\", \"COP3502\", \"CDA3101\", \"MAC2311\", \"Sem1\", \"Sem7\", \"Social/Behavioral2\", \"Sem3\"]) => [\"MAC2311\" => \"MAC2312\", \"MAC2312\" => \"MAC2313\", \"MAC2312\" => \"MAS3114\", \"MAC2311\" => \"STA3032\", \"MAC2311\" => \"PHY2048/PHY2048L\", \"PHY2048/PHY2048L\" => \"PHY2049/PHY2049L\", \"MAC2313\" => \"PHY2049/PHY2049L\", \"MAC2311\" => \"COP3502\", \"MAC2311\" => \"COP3503\", \"COP3502\" => \"COP3503\"  …  \"COP3530\" => \"COP4533\", \"COP4600\" => \"CNT4007\", \"Sem6\" => \"CIS4914\", \"Sem7\" => \"Sem8\", \"Sem6\" => \"Sem7\", \"Sem5\" => \"Sem6\", \"Sem4\" => \"Sem5\", \"Sem3\" => \"Sem4\", \"Sem2\" => \"Sem3\", \"Sem1\" => \"Sem2\"]"
      ]
     },
     "metadata": {},
     "output_type": "display_data"
    }
   ],
   "source": [
    "cs = load_major(\"reqs/CS.reqs\")"
   ]
  },
  {
   "cell_type": "code",
   "execution_count": 359,
   "metadata": {},
   "outputs": [
    {
     "data": {
      "text/plain": [
       "top_sort (generic function with 4 methods)"
      ]
     },
     "metadata": {},
     "output_type": "display_data"
    }
   ],
   "source": [
    "function top_sort(vertices::Set{String}, edges::Vector{Pair{String,String}}, seed::Int = 0)\n",
    "    Random.seed!(seed)\n",
    "\n",
    "    l = []\n",
    "    q = Queue{String}()\n",
    "    d = Dict{String, Int}()\n",
    "\n",
    "    for v in vertices\n",
    "        d[v] = 0\n",
    "        for (a,b) in edges\n",
    "            if v == b && a != b\n",
    "                d[v]+=1\n",
    "            end\n",
    "        end\n",
    "    end\n",
    "\n",
    "\n",
    "    \n",
    "    # randomizes the starting order of the queue\n",
    "    for v in shuffle!(collect(vertices))\n",
    "        if d[v] == 0\n",
    "            enqueue!(q, v)\n",
    "        end\n",
    "    end\n",
    "\n",
    "\n",
    "    while !isempty(q)\n",
    "        v = dequeue!(q)\n",
    "        push!(l, v)\n",
    "\n",
    "        for (a,b) in shuffle!(collect(edges))\n",
    "            if v == a && a != b\n",
    "                d[b]-=1\n",
    "                if d[b] == 0\n",
    "                    enqueue!(q, b)\n",
    "                end\n",
    "            end\n",
    "        end\n",
    "    end\n",
    "    \n",
    "    return l\n",
    "end"
   ]
  },
  {
   "cell_type": "code",
   "execution_count": 362,
   "metadata": {},
   "outputs": [
    {
     "name": "stdout",
     "output_type": "stream",
     "text": [
      "Sem1\n",
      "Social/Behavioral1\n",
      "MAC2311\n",
      "Social/Behavioral2\n",
      "Humanities1\n",
      "ENC3246\n",
      "Humanities2\n",
      "HumOrSocOrPhy1\n",
      "EGS4034\n",
      "Sem2\n",
      "STA3032\n",
      "PHY2048/PHY2048L\n",
      "MAC2312\n",
      "COP3502\n",
      "Sem3\n",
      "MAC2313\n",
      "MAS3114\n",
      "COP3503\n",
      "Sem4\n",
      "PHY2049/PHY2049L\n",
      "COT3100\n",
      "Sem5\n",
      "COP3530\n",
      "CDA3101\n",
      "Sem6\n",
      "COP4020\n",
      "COP4533\n",
      "CEN3031\n",
      "CIS4301\n",
      "COP4600\n",
      "Sem7\n",
      "CIS4914\n",
      "CNT4007\n",
      "Sem8\n"
     ]
    }
   ],
   "source": [
    "for class in top_sort(cs.first, cs.second)\n",
    "    println(class)\n",
    "end"
   ]
  },
  {
   "cell_type": "code",
   "execution_count": 339,
   "metadata": {},
   "outputs": [
    {
     "data": {
      "text/plain": [
       "34-element Vector{Pair{String, String}}:\n",
       "          \"MAC2311\" => \"MAC2312\"\n",
       "          \"MAC2312\" => \"MAC2313\"\n",
       "          \"MAC2312\" => \"MAS3114\"\n",
       "          \"MAC2311\" => \"STA3032\"\n",
       "          \"MAC2311\" => \"PHY2048/PHY2048L\"\n",
       " \"PHY2048/PHY2048L\" => \"PHY2049/PHY2049L\"\n",
       "          \"MAC2313\" => \"PHY2049/PHY2049L\"\n",
       "          \"MAC2311\" => \"COP3502\"\n",
       "          \"MAC2311\" => \"COP3503\"\n",
       "          \"COP3502\" => \"COP3503\"\n",
       "                    ⋮\n",
       "          \"COP4600\" => \"CNT4007\"\n",
       "             \"Sem6\" => \"CIS4914\"\n",
       "             \"Sem7\" => \"Sem8\"\n",
       "             \"Sem6\" => \"Sem7\"\n",
       "             \"Sem5\" => \"Sem6\"\n",
       "             \"Sem4\" => \"Sem5\"\n",
       "             \"Sem3\" => \"Sem4\"\n",
       "             \"Sem2\" => \"Sem3\"\n",
       "             \"Sem1\" => \"Sem2\""
      ]
     },
     "metadata": {},
     "output_type": "display_data"
    }
   ],
   "source": [
    "cs.second"
   ]
  }
 ],
 "metadata": {
  "kernelspec": {
   "display_name": "Julia 1.6.2",
   "language": "julia",
   "name": "julia-1.6"
  },
  "language_info": {
   "file_extension": ".jl",
   "mimetype": "application/julia",
   "name": "julia",
   "version": "1.6.2"
  },
  "orig_nbformat": 4
 },
 "nbformat": 4,
 "nbformat_minor": 2
}
