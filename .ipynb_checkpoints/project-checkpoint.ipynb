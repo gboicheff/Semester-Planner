{
 "cells": [
  {
   "cell_type": "code",
   "execution_count": 1,
   "metadata": {},
   "outputs": [],
   "source": [
    "using Catlab\n",
    "using Catlab.CategoricalAlgebra\n",
    "using Catlab.Graphs\n",
    "using Catlab.Graphs.BasicGraphs\n",
    "using Catlab.Graphics\n",
    "using Catlab.Graphics.Graphviz\n",
    "using Catlab.Graphics.GraphvizGraphs\n",
    "using Catlab.Graphs.PropertyGraphs\n",
    "using Catlab.CategoricalAlgebra.CSets\n",
    "using Catlab.CategoricalAlgebra.FinSets, Catlab.CategoricalAlgebra\n",
    "using DataStructures\n",
    "using Colors\n",
    "using Random"
   ]
  },
  {
   "cell_type": "markdown",
   "metadata": {},
   "source": [
    "# Why Preorders?"
   ]
  },
  {
   "cell_type": "markdown",
   "metadata": {},
   "source": [
    "We simplify the question of prerequisites \n",
    "\n",
    "1. To make the question more manageable to think about\n",
    "2. To showcase preorders as a way of organizing information\n",
    "\n",
    "With preorders, we only deal with prerequisites that are other classes. Prerequisites with that include **or** are not too hard to generalize to, but other types of prerequisites increase complexity tremendously. For example, prerequisites of class standing can go in both directions, causing classes no longer to be available just by spending too long in school. Furthermore, some majors require letter grades higher than the standard C in a course.\n",
    "\n",
    "In short, we avoid rare and mostly needless complications by working with a preorder structure."
   ]
  },
  {
   "cell_type": "markdown",
   "metadata": {},
   "source": [
    "# The Preorder"
   ]
  },
  {
   "cell_type": "code",
   "execution_count": 2,
   "metadata": {},
   "outputs": [],
   "source": [
    "# taken from programming exercise 1\n",
    "struct Preorder\n",
    "  carrier:: FinSet\n",
    "  relation :: SortedSet{Pair{Int,Int}}\n",
    "  \"\"\"Construct valid preorder by taking reflexive/transitive closure\"\"\"\n",
    "  function Preorder(carrier:: FinSet, rel :: Vector{Pair{Int,Int}})\n",
    "    for (a,b) ∈ rel\n",
    "      a ∈ carrier && b ∈ carrier || error(\"relation element not in carrier set\")\n",
    "    end\n",
    "    relation = SortedSet(rel)\n",
    "    for (a, b, c) in Iterators.product(carrier, carrier, carrier)\n",
    "      if ((a => b) ∈ relation) && ((b => c) ∈ relation)\n",
    "        push!(relation, a => c) # enforces relation is transitive\n",
    "      end\n",
    "    end\n",
    "    for i in carrier\n",
    "      push!(relation, i => i) # enforces that relation is reflexive\n",
    "    end\n",
    "    return new(carrier, relation)\n",
    "  end\n",
    "end"
   ]
  },
  {
   "cell_type": "markdown",
   "metadata": {},
   "source": [
    "![title](Images/PreorderDefinition.png)"
   ]
  },
  {
   "cell_type": "markdown",
   "metadata": {},
   "source": [
    "In the catalog, classes are presented as having prerequisites. We take a different view: with preorders, we store the classes in **carrier** and then define the prerequisites in a separate collection **relation** by adding pairs (a,b) when a is a prerequisite of b. Then we turn our data into a preorder by taking the reflexive and transitive closure."
   ]
  },
  {
   "cell_type": "markdown",
   "metadata": {},
   "source": [
    "But notice that we do not have our information stored directly in preorders. Instead, we have our carrier as a FinSet and our relations. \n",
    "\n",
    "The fundamental fact is that any relabelling of the carrier gives us a preorder with the exact same shape. That is, preorders are not affected by the names of the objects that make up the carrier; the information is in how the objects relate. So we represent our finite preorder of classes using a FinSet and simly keep a map between class names and number to give meaning to the preorder. \n",
    "\n",
    "This practice of separating the structure and using a map to give meaning to the objects appears again as the far less trivial practice of filling a database schema with a set-valued functor."
   ]
  },
  {
   "cell_type": "code",
   "execution_count": 3,
   "metadata": {},
   "outputs": [
    {
     "data": {
      "text/plain": [
       "load_major (generic function with 2 methods)"
      ]
     },
     "execution_count": 3,
     "metadata": {},
     "output_type": "execute_result"
    }
   ],
   "source": [
    "# function to parse major requirement files\n",
    "function load_major(path::String, taken_classes::Set{String}=Set{String}())\n",
    "\n",
    "    file = open(path, \"r\")\n",
    "\n",
    "    num_to_class = Dict()\n",
    "    class_to_num = Dict()\n",
    "\n",
    "    relations = Vector{Pair{Int, Int}}()\n",
    "\n",
    "    num_classes = 0\n",
    "    while !eof(file)\n",
    "        line = readline(file)\n",
    "        if length(strip(line, ' ')) != 0\n",
    "            sp = split(line, \":\")\n",
    "\n",
    "            if length(sp) >= 1\n",
    "                name = strip(sp[1], ' ')\n",
    "                if !in(name, taken_classes)\n",
    "                    num_classes+=1\n",
    "                    num_to_class[num_classes] = string(name)\n",
    "                    class_to_num[string(name)] = num_classes\n",
    "                end\n",
    "\n",
    "                if length(sp) >= 2\n",
    "                    reqs_str = strip(sp[2], ['[', ']', ' '])\n",
    "                    reqs = split(reqs_str, \",\")\n",
    "                    \n",
    "                    for req in reqs\n",
    "                        req = strip(req, ' ')\n",
    "                        if length(req) > 0\n",
    "                            if !in(req, taken_classes) && in(name, taken_classes)\n",
    "                                throw(\"At least one class taken has missing prereqs!\")\n",
    "                            end\n",
    "                            if !in(req, taken_classes)\n",
    "                                push!(relations, class_to_num[req] => class_to_num[name])\n",
    "                            end\n",
    "                        end\n",
    "                    end\n",
    "                end\n",
    "            end\n",
    "        end\n",
    "    end\n",
    "\n",
    "    close(file)\n",
    "\n",
    "\n",
    "    return (Preorder(FinSet(num_classes),relations), num_to_class)\n",
    "end"
   ]
  },
  {
   "cell_type": "code",
   "execution_count": 4,
   "metadata": {},
   "outputs": [
    {
     "data": {
      "text/plain": [
       "(Preorder(FinSet(35), SortedSet([1 => 1, 1 => 2, 1 => 3, 1 => 4, 1 => 5, 1 => 6, 1 => 7, 1 => 9, 1 => 10, 1 => 11  …  28 => 29, 28 => 30, 29 => 29, 29 => 30, 30 => 30, 31 => 31, 32 => 32, 33 => 33, 34 => 34, 35 => 35],\n",
       "Base.Order.ForwardOrdering())), Dict{Any, Any}(5 => \"STA3032\", 16 => \"COP4600\", 20 => \"CIS4930-1\", 35 => \"HumOrSocOrPhy1\", 12 => \"COP3530\", 24 => \"CIS4930-5\", 28 => \"Interdisciplinary-3\", 8 => \"ENC3246\", 17 => \"COP4020\", 30 => \"Interdisciplinary-5\"…))"
      ]
     },
     "execution_count": 4,
     "metadata": {},
     "output_type": "execute_result"
    }
   ],
   "source": [
    "# load full degree requirements into preorder\n",
    "cs, cs_mappings = load_major(\"reqs/CS.reqs\")"
   ]
  },
  {
   "cell_type": "code",
   "execution_count": 5,
   "metadata": {},
   "outputs": [
    {
     "data": {
      "text/plain": [
       "(Preorder(FinSet(33), SortedSet([1 => 1, 1 => 2, 1 => 3, 1 => 6, 1 => 10, 1 => 12, 1 => 14, 1 => 15, 1 => 16, 1 => 17  …  26 => 27, 26 => 28, 27 => 27, 27 => 28, 28 => 28, 29 => 29, 30 => 30, 31 => 31, 32 => 32, 33 => 33],\n",
       "Base.Order.ForwardOrdering())), Dict{Any, Any}(5 => \"PHY2048/PHY2048L\", 16 => \"COP4533\", 20 => \"CIS4930-3\", 12 => \"CEN3031\", 24 => \"Interdisciplinary-1\", 28 => \"Interdisciplinary-5\", 8 => \"COP3503\", 17 => \"CNT4007\", 30 => \"Humanities2\", 1 => \"MAC2312\"…))"
      ]
     },
     "execution_count": 5,
     "metadata": {},
     "output_type": "execute_result"
    }
   ],
   "source": [
    "# load degree requirements without some classes that were already taken into preorder\n",
    "taken_classes = Set{String}([\"MAC2311\", \"COP3502\"])\n",
    "new_cs, mapping = load_major(\"reqs/CS.reqs\", taken_classes)"
   ]
  },
  {
   "cell_type": "code",
   "execution_count": 6,
   "metadata": {},
   "outputs": [
    {
     "ename": "LoadError",
     "evalue": "\"At least one class taken has missing prereqs!\"",
     "output_type": "error",
     "traceback": [
      "\"At least one class taken has missing prereqs!\"",
      "",
      "Stacktrace:",
      " [1] load_major(path::String, taken_classes::Set{String})",
      "   @ Main ./In[3]:33",
      " [2] top-level scope",
      "   @ In[6]:3",
      " [3] eval",
      "   @ ./boot.jl:360 [inlined]",
      " [4] include_string(mapexpr::typeof(REPL.softscope), mod::Module, code::String, filename::String)",
      "   @ Base ./loading.jl:1116"
     ]
    }
   ],
   "source": [
    "# try to load degree requirements with invalid classes taken\n",
    "taken_classes = Set{String}([\"COP4600\"])\n",
    "new_cs, mapping = load_major(\"reqs/CS.reqs\", taken_classes)"
   ]
  },
  {
   "cell_type": "markdown",
   "metadata": {},
   "source": [
    "# Monotone Maps and Valid Schedules"
   ]
  },
  {
   "cell_type": "code",
   "execution_count": null,
   "metadata": {},
   "outputs": [],
   "source": []
  },
  {
   "cell_type": "markdown",
   "metadata": {},
   "source": [
    "![title](Images/MonotoneMapDefinition.png)"
   ]
  },
  {
   "cell_type": "code",
   "execution_count": null,
   "metadata": {},
   "outputs": [],
   "source": []
  },
  {
   "cell_type": "markdown",
   "metadata": {},
   "source": [
    "The important thing to note is that the spirit of monotinicity is the preservation of order in the direction of the map."
   ]
  },
  {
   "cell_type": "markdown",
   "metadata": {},
   "source": [
    "Now we do not want to take prerequisites for a class in the same semester as the class, so we add strictness: we say that f is strictly monotone if $a < b \\implies f(a) < f(b)$, where  $a < b$ if $a \\leq b, and  ,a \\ne b$\n",
    "            \n",
    "and model our semesters with a **Total Order**"
   ]
  },
  {
   "cell_type": "code",
   "execution_count": null,
   "metadata": {},
   "outputs": [],
   "source": []
  },
  {
   "cell_type": "markdown",
   "metadata": {},
   "source": [
    "![title](Images/TotalOrderDefinition.png)"
   ]
  },
  {
   "cell_type": "code",
   "execution_count": null,
   "metadata": {},
   "outputs": [],
   "source": []
  },
  {
   "cell_type": "markdown",
   "metadata": {},
   "source": [
    "Finite total orders of size n look like the first n elements of the natural number line, which is exactly the struture we are looking for in representing the progression of semesters as a preorder."
   ]
  },
  {
   "cell_type": "code",
   "execution_count": null,
   "metadata": {},
   "outputs": [],
   "source": []
  },
  {
   "cell_type": "markdown",
   "metadata": {},
   "source": [
    "![title](Images/NaturalNumbers.png)"
   ]
  },
  {
   "cell_type": "markdown",
   "metadata": {},
   "source": [
    "We say\n",
    "\n",
    "1. A class is valid to take in a semester if all of its prerequisites have been fulfilled\n",
    "2. A semester is valid if every class in the semester is valid\n",
    "3. A schedule is valid every semester is valid to take given that all classes in previous semesters have been fulfilled\n",
    " \n",
    "We can restate each of these definitions as respecting the order of prerequisites and it becomes clear that a Strict Monotone Map from our class preorder to a linear order gives a valid schedule."
   ]
  },
  {
   "cell_type": "markdown",
   "metadata": {},
   "source": [
    "# Generating a schedule"
   ]
  },
  {
   "cell_type": "markdown",
   "metadata": {},
   "source": [
    "Our method is to build a valid schedule is to go semester by semester, filling each with valid classes. We do this by taking a number of valid classes from the \"bottom\" of the preorder to fill a semester and then discarding those classes as fulfilled for the next semester."
   ]
  },
  {
   "cell_type": "code",
   "execution_count": 7,
   "metadata": {},
   "outputs": [
    {
     "data": {
      "text/plain": [
       "generate_schedule (generic function with 3 methods)"
      ]
     },
     "execution_count": 7,
     "metadata": {},
     "output_type": "execute_result"
    }
   ],
   "source": [
    "# finds elements with no edges in or out\n",
    "function find_one_offs(preorder::Preorder)\n",
    "    one_offs = Vector()\n",
    "    d = Dict()\n",
    "    for class in collect(preorder.carrier)\n",
    "        d[class] = true\n",
    "    end\n",
    "    for (a,b) in preorder.relation\n",
    "        if a != b\n",
    "            d[a] = false\n",
    "            d[b] = false\n",
    "        end\n",
    "    end\n",
    "    for (class, is_one_off) in d\n",
    "        if is_one_off\n",
    "            push!(one_offs, class)\n",
    "        end\n",
    "    end\n",
    "    return Set(one_offs)\n",
    "end\n",
    "\n",
    "function generate_schedule(preorder::Preorder, num_semesters::Int=8, seed::Int=0)\n",
    "    Random.seed!(seed)\n",
    "\n",
    "    classes = collect(preorder.carrier)\n",
    "    reqs = preorder.relation\n",
    "\n",
    "    full_schedule = Vector()\n",
    "\n",
    "    one_off_classes = find_one_offs(preorder)\n",
    "\n",
    "\n",
    "    # build dictionary of in counts like in topological sort\n",
    "    in_counts = Dict()\n",
    "    for class in classes\n",
    "        # ignore one off classes for now\n",
    "        if !(class in one_off_classes)\n",
    "            in_counts[class] = 0\n",
    "            for (a,b) in preorder.relation\n",
    "                if class == b && a != b\n",
    "                    in_counts[class]+=1\n",
    "                end\n",
    "            end\n",
    "        end\n",
    "    end\n",
    "\n",
    "\n",
    "    # schedule classes with prereqs\n",
    "    for index in 1:num_semesters\n",
    "        semester_schedule = Vector()\n",
    "\n",
    "        available_classes = Set(collect(in_counts))\n",
    "\n",
    "        # find bottoms\n",
    "        # marking them for deletion\n",
    "        for (class, in_count) in shuffle!(collect(available_classes))\n",
    "            if in_count == 0 && length(semester_schedule) < ceil(length(preorder.carrier)/num_semesters)\n",
    "                push!(semester_schedule, class)\n",
    "            end\n",
    "        end\n",
    "\n",
    "        # delete taken classes\n",
    "        for class in semester_schedule\n",
    "            for (a,b) in preorder.relation\n",
    "                if class == a\n",
    "                    in_counts[b]-=1\n",
    "                end\n",
    "            end\n",
    "            delete!(in_counts, class)\n",
    "        end\n",
    "\n",
    "        push!(full_schedule, semester_schedule)\n",
    "    end\n",
    "\n",
    "\n",
    "    # schedule classes with no prereqs\n",
    "    # prioritizing even credit distribution\n",
    "    while length(one_off_classes) > 0\n",
    "        \n",
    "        # find semester with min number of credits\n",
    "        min_index = 1\n",
    "        for (index, semester) in enumerate(full_schedule)\n",
    "            if length(full_schedule[index]) < length(full_schedule[min_index])\n",
    "                min_index = index\n",
    "            end \n",
    "        end\n",
    "        \n",
    "        class_to_add = collect(one_off_classes)[1]\n",
    "        push!(full_schedule[min_index], class_to_add)\n",
    "        delete!(one_off_classes, class_to_add)\n",
    "    end\n",
    "\n",
    "    # check that all classes were fit into the schedule\n",
    "    if length(one_off_classes) > 0 || length(collect(in_counts)) > 0\n",
    "        throw(\"Cannot generate schedule!\")\n",
    "    end\n",
    "\n",
    "    return full_schedule\n",
    "end"
   ]
  },
  {
   "cell_type": "markdown",
   "metadata": {},
   "source": [
    "# Examples"
   ]
  },
  {
   "cell_type": "code",
   "execution_count": 8,
   "metadata": {},
   "outputs": [
    {
     "data": {
      "text/plain": [
       "convert_to_readable (generic function with 1 method)"
      ]
     },
     "execution_count": 8,
     "metadata": {},
     "output_type": "execute_result"
    }
   ],
   "source": [
    "function convert_to_readable(schedule, mapping)\n",
    "    for (i,semester_schedule) in enumerate(schedule)\n",
    "        for (j,semester_schedule) in enumerate(semester_schedule)\n",
    "            schedule[i][j] = mapping[schedule[i][j]]\n",
    "        end\n",
    "    end\n",
    "    return schedule\n",
    "end"
   ]
  },
  {
   "cell_type": "code",
   "execution_count": 9,
   "metadata": {},
   "outputs": [
    {
     "ename": "LoadError",
     "evalue": "UndefVarError: output_plan not defined",
     "output_type": "error",
     "traceback": [
      "UndefVarError: output_plan not defined",
      "",
      "Stacktrace:",
      " [1] top-level scope",
      "   @ In[9]:4",
      " [2] eval",
      "   @ ./boot.jl:360 [inlined]",
      " [3] include_string(mapexpr::typeof(REPL.softscope), mod::Module, code::String, filename::String)",
      "   @ Base ./loading.jl:1116"
     ]
    }
   ],
   "source": [
    "# output basic plan\n",
    "cs, cs_mapping = load_major(\"reqs/CS.reqs\")\n",
    "schedule = generate_schedule(cs, 8)\n",
    "output_plan(schedule, \"semester_plans/example1.plan\", cs_mapping)\n",
    "convert_to_readable(schedule, cs_mappings)"
   ]
  },
  {
   "cell_type": "code",
   "execution_count": 10,
   "metadata": {},
   "outputs": [
    {
     "data": {
      "text/plain": [
       "8-element Vector{Any}:\n",
       " Any[\"MAC2312\", \"Interdisciplinary-1\", \"COP3503\", \"PHY2048/PHY2048L\"]\n",
       " Any[\"COT3100\", \"MAC2313\", \"Interdisciplinary-2\", \"MAS3114\"]\n",
       " Any[\"PHY2049/PHY2049L\", \"COP3530\", \"Interdisciplinary-3\", \"CDA3101\"]\n",
       " Any[\"CEN3031\", \"COP4020\", \"Interdisciplinary-4\", \"CIS4930-4\", \"CIS4930-5\"]\n",
       " Any[\"COP4600\", \"CIS4301\", \"CIS4930-3\", \"COP4533\", \"CIS4930-2\"]\n",
       " Any[\"Interdisciplinary-5\", \"CIS4930-1\", \"CNT4007\", \"Humanities2\"]\n",
       " Any[\"Social/Behavioral2\", \"Humanities1\", \"HumOrSocOrPhy1\", \"EGS4034\"]\n",
       " Any[\"STA3032\", \"ENC3246\", \"Social/Behavioral1\"]"
      ]
     },
     "execution_count": 10,
     "metadata": {},
     "output_type": "execute_result"
    }
   ],
   "source": [
    "# output plan considering the taken classes\n",
    "taken_classes = Set{String}([\"MAC2311\", \"COP3502\"])\n",
    "new_cs, new_mapping = load_major(\"reqs/CS.reqs\", taken_classes)\n",
    "new_schedule = generate_schedule(new_cs, 8)\n",
    "convert_to_readable(new_schedule, new_mapping)"
   ]
  },
  {
   "cell_type": "code",
   "execution_count": 11,
   "metadata": {},
   "outputs": [
    {
     "data": {
      "text/plain": [
       "6-element Vector{Any}:\n",
       " Any[\"COT3100\", \"Interdisciplinary-1\", \"PHY2049/PHY2049L\", \"Social/Behavioral2\", \"Humanities1\"]\n",
       " Any[\"CDA3101\", \"COP3530\", \"Interdisciplinary-2\", \"Humanities2\"]\n",
       " Any[\"CIS4301\", \"CEN3031\", \"COP4600\", \"CIS4930-5\", \"COP4533\"]\n",
       " Any[\"CIS4930-4\", \"CIS4930-1\", \"CIS4930-3\", \"COP4020\", \"Interdisciplinary-3\"]\n",
       " Any[\"CIS4930-2\", \"CNT4007\", \"Interdisciplinary-4\", \"ENC3246\"]\n",
       " Any[\"Interdisciplinary-5\", \"Social/Behavioral1\", \"HumOrSocOrPhy1\", \"MAS3114\"]"
      ]
     },
     "execution_count": 11,
     "metadata": {},
     "output_type": "execute_result"
    }
   ],
   "source": [
    "# output plan with more classes taken\n",
    "taken_classes = Set{String}([\"MAC2311\", \"MAC2312\", \"MAC2313\", \"COP3502\", \"COP3503\", \"EGS4034\", \"STA3032\", \"PHY2048/PHY2048L\"])\n",
    "new_cs, new_mapping = load_major(\"reqs/CS.reqs\", taken_classes)\n",
    "new_schedule = generate_schedule(new_cs, 6)\n",
    "convert_to_readable(new_schedule, new_mapping)"
   ]
  },
  {
   "cell_type": "code",
   "execution_count": 12,
   "metadata": {},
   "outputs": [
    {
     "data": {
      "text/plain": [
       "is_monotone (generic function with 1 method)"
      ]
     },
     "execution_count": 12,
     "metadata": {},
     "output_type": "execute_result"
    }
   ],
   "source": [
    "struct Monotone_map\n",
    "    domain::Preorder\n",
    "    codomain::Preorder\n",
    "    mapping::FinFunction\n",
    "    function Monotone_map(domain::Preorder, cod::Preorder, mapping::FinFunction)\n",
    "      ((dom(mapping) == domain.carrier) && (codom(mapping) == cod.carrier)\n",
    "      ) || error(\"mapping mismatch\")\n",
    "      return new(domain,cod,mapping)\n",
    "    end\n",
    "  end\n",
    "\n",
    "\n",
    "function is_monotone(mm::Monotone_map)::Bool\n",
    "    for comp in mm.domain.relation\n",
    "        mapL = mm.mapping(comp.first)\n",
    "        mapR = mm.mapping(comp.second)\n",
    "        mono=false\n",
    "        \n",
    "        if(comp.first == comp.second) #reflexive relation\n",
    "          continue\n",
    "        end\n",
    "        if(mapL == mapR) #pre req and class taken in same semeester\n",
    "          return false;\n",
    "        end\n",
    "\n",
    "        for comparison in mm.codomain.relation\n",
    "\n",
    "            if(mapL == comparison.first && mapR == comparison.second)\n",
    "                mono=true\n",
    "            end\n",
    "        end\n",
    "        if(!mono)\n",
    "            return false\n",
    "        end\n",
    "    end\n",
    "    return true\n",
    "end"
   ]
  },
  {
   "cell_type": "code",
   "execution_count": 13,
   "metadata": {},
   "outputs": [
    {
     "data": {
      "text/plain": [
       "Monotone_map(Preorder(FinSet(35), SortedSet([1 => 1, 1 => 2, 1 => 3, 1 => 4, 1 => 5, 1 => 6, 1 => 7, 1 => 9, 1 => 10, 1 => 11  …  28 => 29, 28 => 30, 29 => 29, 29 => 30, 30 => 30, 31 => 31, 32 => 32, 33 => 33, 34 => 34, 35 => 35],\n",
       "Base.Order.ForwardOrdering())), Preorder(FinSet(8), SortedSet([1 => 1, 1 => 2, 1 => 3, 1 => 4, 1 => 5, 1 => 6, 1 => 7, 1 => 8, 2 => 2, 2 => 3  …  5 => 5, 5 => 6, 5 => 7, 5 => 8, 6 => 6, 6 => 7, 6 => 8, 7 => 7, 7 => 8, 8 => 8],\n",
       "Base.Order.ForwardOrdering())), FinFunction([1, 2, 3, 3, 2, 2, 4, 8, 2, 3, 4, 5, 5, 8, 6, 6, 6, 7, 7, 7, 6, 7, 6, 7, 4, 1, 2, 3, 4, 5, 5, 8, 1, 1, 8], 35, 8))"
      ]
     },
     "execution_count": 13,
     "metadata": {},
     "output_type": "execute_result"
    }
   ],
   "source": [
    "#check that the generated schedule creates a monotone map onto 8 semesters\n",
    "cs, cs_mapping = load_major(\"reqs/CS.reqs\")\n",
    "schedule = generate_schedule(cs, 8)\n",
    "\n",
    "semester_preorder = Preorder(FinSet(8), [1=>2, 2=>3, 3=>4, 4=>5, 5=>6, 6=>7, 7=>8])\n",
    "\n",
    "indices = Vector{Int}(undef,length(cs.carrier))\n",
    "for (index,semester) in enumerate(schedule)\n",
    "    for class in semester\n",
    "        indices[class] = index\n",
    "    end\n",
    "end\n",
    "\n",
    "\n",
    "\n",
    "\n",
    "f = FinFunction(indices, cs.carrier, semester_preorder.carrier)\n",
    "schedule_map = Monotone_map(cs, semester_preorder, f)"
   ]
  },
  {
   "cell_type": "code",
   "execution_count": 14,
   "metadata": {},
   "outputs": [
    {
     "data": {
      "text/plain": [
       "true"
      ]
     },
     "execution_count": 14,
     "metadata": {},
     "output_type": "execute_result"
    }
   ],
   "source": [
    "# check that the generated schedule specifies a monotone map between the req preorder and the semester preorder\n",
    "is_monotone(schedule_map)"
   ]
  },
  {
   "cell_type": "code",
   "execution_count": 15,
   "metadata": {},
   "outputs": [
    {
     "data": {
      "text/plain": [
       "true"
      ]
     },
     "execution_count": 15,
     "metadata": {},
     "output_type": "execute_result"
    }
   ],
   "source": [
    "courses = Preorder(FinSet(4), [1=>2, 2=>3, 2=>4])\n",
    "semesters = Preorder(FinSet(3), [1=>2, 2=>3])\n",
    "\n",
    "is_monotone(Monotone_map(courses, semesters, FinFunction([1,2,3,3], FinSet(4), FinSet(3))))"
   ]
  },
  {
   "cell_type": "markdown",
   "metadata": {},
   "source": [
    "INSERT IMAGE FROM SLIDE 10 HERE"
   ]
  },
  {
   "cell_type": "code",
   "execution_count": 16,
   "metadata": {},
   "outputs": [
    {
     "data": {
      "text/plain": [
       "false"
      ]
     },
     "execution_count": 16,
     "metadata": {},
     "output_type": "execute_result"
    }
   ],
   "source": [
    "is_monotone(Monotone_map(courses, semesters, FinFunction([2,1,3,3], FinSet(4), FinSet(3))))"
   ]
  },
  {
   "cell_type": "markdown",
   "metadata": {},
   "source": [
    "INSERT IMAGE FROM SLIDE 11 HERE"
   ]
  },
  {
   "cell_type": "code",
   "execution_count": 17,
   "metadata": {},
   "outputs": [
    {
     "data": {
      "text/plain": [
       "false"
      ]
     },
     "execution_count": 17,
     "metadata": {},
     "output_type": "execute_result"
    }
   ],
   "source": [
    "is_monotone(Monotone_map(courses, semesters, FinFunction([1,1,2,3], FinSet(4), FinSet(3))))"
   ]
  },
  {
   "cell_type": "markdown",
   "metadata": {},
   "source": [
    "INSERT IMAGE FROM SLIDE 12 HERE"
   ]
  },
  {
   "cell_type": "code",
   "execution_count": 18,
   "metadata": {},
   "outputs": [
    {
     "data": {
      "text/plain": [
       "(Preorder(FinSet(33), SortedSet([1 => 1, 1 => 2, 1 => 3, 1 => 6, 1 => 10, 1 => 12, 1 => 14, 1 => 15, 1 => 16, 1 => 17  …  26 => 27, 26 => 28, 27 => 27, 27 => 28, 28 => 28, 29 => 29, 30 => 30, 31 => 31, 32 => 32, 33 => 33],\n",
       "Base.Order.ForwardOrdering())), Dict{Any, Any}(5 => \"PHY2048/PHY2048L\", 16 => \"COP4533\", 20 => \"CIS4930-3\", 12 => \"CEN3031\", 24 => \"Interdisciplinary-1\", 28 => \"Interdisciplinary-5\", 8 => \"COP3503\", 17 => \"CNT4007\", 30 => \"Humanities2\", 1 => \"MAC2312\"…))"
      ]
     },
     "execution_count": 18,
     "metadata": {},
     "output_type": "execute_result"
    }
   ],
   "source": [
    "taken_classes = Set{String}([\"MAC2311\", \"COP3502\"])\n",
    "new_cs, mapping = load_major(\"reqs/CS.reqs\", taken_classes)"
   ]
  },
  {
   "cell_type": "markdown",
   "metadata": {},
   "source": [
    "# Why this works"
   ]
  },
  {
   "cell_type": "markdown",
   "metadata": {},
   "source": [
    "### First we show why we can take from the \"bottom\"."
   ]
  },
  {
   "cell_type": "markdown",
   "metadata": {},
   "source": [
    "So what we mean by classes on the \"bottom\" (with all prerequisites fulfilled) is actually minimal elements (with no elements below them). "
   ]
  },
  {
   "cell_type": "markdown",
   "metadata": {},
   "source": [
    "\n",
    "\n",
    "\n",
    "![title](Images/MinmalElement.png)\n",
    "\n",
    "(from https://en.wikipedia.org/wiki/Maximal_and_minimal_elements)\n"
   ]
  },
  {
   "cell_type": "markdown",
   "metadata": {},
   "source": [
    "## Definition"
   ]
  },
  {
   "cell_type": "markdown",
   "metadata": {},
   "source": [
    "![title](Images/SkeletalDefinition.png)"
   ]
  },
  {
   "cell_type": "markdown",
   "metadata": {},
   "source": [
    "The key property to note is that our preorder is skeletal because no two classes can be prerequisites of each other. This along with finiteness guarantees we can simply take minimal elements to create a full schedule."
   ]
  },
  {
   "cell_type": "markdown",
   "metadata": {},
   "source": [
    "### Proposition\n",
    "      Every non-minimal object of a finite skeletal preorder is above a minimal element. "
   ]
  },
  {
   "cell_type": "markdown",
   "metadata": {},
   "source": [
    "### Proof\n",
    "\n",
    "We proceed by showing that a skeletal preorder with a non-minimal object $a_{0}$ that is not above a minimal element is infinite.\n",
    "\n",
    "Let (P, $\\leq$), be a skeletal preorder. Suppose $a_{0}$ is above a minimal element. This implies that there exists an $a_{1}$ with  $ a_{1} < a_{0} $. Clearly $a_{1}$ cannot be above a minimal element either. Now for every positive integer n, if $a_{n}$ is not above a minimal element,  we can take $ a_{n+1} < a_{n} $ and where $a_{n+1}$ is not above a minimal element. Each $a_{n}$ is distinct because our preorder is skeletal so we have an infinite sequence of unique preorder elements $a_{n}$."
   ]
  },
  {
   "cell_type": "markdown",
   "metadata": {},
   "source": [
    "### Proposition\n",
    "    A preorder with a minimal element removed is still a preorder and skeletality preserved"
   ]
  },
  {
   "cell_type": "markdown",
   "metadata": {},
   "source": [
    "### Proof idea\n",
    "Removing an element does not affect transitivity. $x \\leq x$ still holds for all remaining elements.\n",
    "\n",
    "\n",
    "Similarly, skeletality is not affected by removing an element.\n",
    "\n",
    "For transitivity, if a,b,c are elements that have not been removed,\n",
    "if $a \\leq b$ and $b \\leq c$ then $a \\leq c$ has not been removed from our smaller preorder either."
   ]
  },
  {
   "cell_type": "markdown",
   "metadata": {},
   "source": [
    "### Corollary\n",
    "There are always minimal elements to remove from a finite skeletal preorder and doing so yields a skeletal preorder that is one element smaller. This means that the method of removing minimal elements will exhaust the preorder of classes with enough steps. Now that it is has been shown that we can build from bottom up, we show that doing so does indeed preserve order."
   ]
  },
  {
   "cell_type": "markdown",
   "metadata": {},
   "source": [
    "## Conclusion"
   ]
  },
  {
   "cell_type": "markdown",
   "metadata": {},
   "source": [
    "We try to 4-5 minimal elements with each semester to represent taking 12-15 credits in a semester in our implementation but in general:"
   ]
  },
  {
   "cell_type": "markdown",
   "metadata": {},
   "source": [
    "### 1. A valid schedule determines a strict monotone map\n",
    "### 2.  A strict monotone map to a linear order uniquely determines a valid schedule"
   ]
  },
  {
   "cell_type": "markdown",
   "metadata": {},
   "source": [
    "Let $\\underline{n}$ stand for the linear order of the first n elements of the natural numbers."
   ]
  },
  {
   "cell_type": "markdown",
   "metadata": {},
   "source": [
    "### Proposition\n",
    "\n",
    "Let S be a valid schedule with n semesters. Let (P, $\\leq$) be a class preorder. Let $f: P \\rightarrow \\underline{n}$ be defined by $f(a)$ = the semester a is taken. Then f is a strict monotone map.\n",
    "\n",
    "### Proof\n",
    "\n",
    "Suppose $a<b$. Then because S is valid, $b$ is not minimal until $a$ is taken. So if $a$ is taken in semester $k$, then $b$ is valid starting semester $k+1$ at the earliest. Thus, $f(b) \\geq k+1 > k = f(a)$"
   ]
  },
  {
   "cell_type": "markdown",
   "metadata": {},
   "source": [
    "### Proposition\n",
    "\n",
    "Let $f:P \\rightarrow \\underline{n}$ be a strict monotone map. Then the schedule S with semester k consisting of $f^{-1}(k)$ is valid.\n",
    "\n",
    "### Proof\n",
    "We attempt to produce S by choosing $f^{-1}(k)$ for our semester at each step.\n",
    "\n",
    "Suppose S is not valid. Then we must have some semester k for which a class $b$ is taken but not valid. That is, $b$ is taken but not yet made minimal. This means that some class $a$ with $a<b$ exists in the preorder when semester k was chosen. This means that $a$ was chosen on semester k or later. Thus, $f(a) \\geq k$. But then $a<b$ and $f(b) = k \\leq f(a)$, violating strictness."
   ]
  },
  {
   "cell_type": "markdown",
   "metadata": {},
   "source": [
    "\n"
   ]
  },
  {
   "cell_type": "markdown",
   "metadata": {},
   "source": [
    "What this means is that we can perfectly think of preorders as prerequisites and strict monotone maps to total orders as semester schedules. "
   ]
  },
  {
   "cell_type": "markdown",
   "metadata": {},
   "source": [
    "## We get a few corollaries:\n",
    "1. It is possible to graduate in n semester (administration allowing) semester if there exists a monotone map from the preorder of remaining classes to a total order of size n.\n",
    "\n",
    "2. A schedule is possible if it represents a strict monotone map\n",
    "\n",
    "3. It is possible to graduate taking in $k$ semesters taking $n_{i}$ classes on semester i, if there exists a strict monotone map $f$ to a total order of size $k$ with |$f^{-1}$(x) = $n_{x}$ |"
   ]
  },
  {
   "cell_type": "markdown",
   "metadata": {},
   "source": [
    "# A generalization"
   ]
  },
  {
   "cell_type": "markdown",
   "metadata": {},
   "source": [
    "Our method of taking the schedule from bottom up easily generalizes to adding in prerequisites that include the logical **or** on top of **and**. Using the following formula, we can write any set of prerequisites with all instances of **and** coming before any instance of **or**.\n",
    "\n",
    "$a \\wedge (b \\lor c) = (a \\lor b) \\wedge (a \\lor c)$\n",
    "\n",
    "With for instance of $a \\lor b$, we create a new node with $a,b \\leq (a \\lor b)$\n",
    "When class a or class b is taken and flagged for removal, we remove $a \\lor b$ from the preorder as well. With this change, all prerequisites are removed as they are fulfilled so the minimal elements of our graph are valid to be taken.\n"
   ]
  }
 ],
 "metadata": {
  "kernelspec": {
   "display_name": "Julia 1.6.2",
   "language": "julia",
   "name": "julia-1.6"
  },
  "language_info": {
   "file_extension": ".jl",
   "mimetype": "application/julia",
   "name": "julia",
   "version": "1.6.2"
  }
 },
 "nbformat": 4,
 "nbformat_minor": 2
}
