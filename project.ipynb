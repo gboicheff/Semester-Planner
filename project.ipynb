{
 "cells": [
  {
   "cell_type": "code",
   "execution_count": 205,
   "metadata": {},
   "outputs": [],
   "source": [
    "using Catlab\n",
    "using Catlab.CategoricalAlgebra\n",
    "using Catlab.Graphs\n",
    "using Catlab.Graphs.BasicGraphs\n",
    "using Catlab.Graphics\n",
    "using Catlab.Graphics.Graphviz\n",
    "using Catlab.Graphics.GraphvizGraphs\n",
    "using Catlab.Graphs.PropertyGraphs\n",
    "using Catlab.CategoricalAlgebra.CSets\n",
    "using Catlab.CategoricalAlgebra.FinSets, Catlab.CategoricalAlgebra\n",
    "using DataStructures\n",
    "using Colors\n",
    "using Random"
   ]
  },
  {
   "cell_type": "code",
   "execution_count": 206,
   "metadata": {},
   "outputs": [
    {
     "data": {
      "text/plain": [
       "draw (generic function with 1 method)"
      ]
     },
     "metadata": {},
     "output_type": "display_data"
    }
   ],
   "source": [
    "draw(g) = to_graphviz(g, node_labels=true)"
   ]
  },
  {
   "cell_type": "code",
   "execution_count": 207,
   "metadata": {},
   "outputs": [],
   "source": [
    "struct Preorder\n",
    "    carrier:: Set{String}\n",
    "    relation :: SortedSet{Pair{String,String}}\n",
    "    \"\"\"Construct valid preorder by taking reflexive/transitive closure\"\"\"\n",
    "    function Preorder(carrier:: Set{String}, rel :: Vector{Pair{String,String}})\n",
    "      for (a,b) ∈ rel\n",
    "        a ∈ carrier && b ∈ carrier || error(\"relation element not in carrier set\")\n",
    "      end\n",
    "      relation = SortedSet(rel)\n",
    "      for (a, b, c) in Iterators.product(carrier, carrier, carrier)\n",
    "        if ((a => b) ∈ relation) && ((b => c) ∈ relation)\n",
    "          push!(relation, a => c) # enforces relation is transitive\n",
    "        end\n",
    "      end\n",
    "      for i in carrier\n",
    "        push!(relation, i => i) # enforces that relation is reflexive\n",
    "      end\n",
    "      return new(carrier, relation)\n",
    "    end\n",
    "  end"
   ]
  },
  {
   "cell_type": "code",
   "execution_count": 208,
   "metadata": {},
   "outputs": [
    {
     "data": {
      "text/plain": [
       "load_major (generic function with 1 method)"
      ]
     },
     "metadata": {},
     "output_type": "display_data"
    }
   ],
   "source": [
    "function load_major(path::String)::Pair{Set{String}, Vector{Pair{String, String}}}\n",
    "    file = open(path, \"r\")\n",
    "    classes = Set{String}()\n",
    "    relations = Vector{Pair{String, String}}()\n",
    "    while !eof(file)\n",
    "        line = readline(file)\n",
    "        if length(strip(line, ' ')) != 0\n",
    "            sp = split(line, \":\")\n",
    "\n",
    "            if length(sp) >= 1\n",
    "                name = strip(sp[1], ' ')\n",
    "                push!(classes, string(name))\n",
    "            end\n",
    "\n",
    "            if length(sp) >= 2\n",
    "                reqs_str = strip(sp[2], ['[', ']', ' '])\n",
    "                reqs = split(reqs_str, \",\")\n",
    "                \n",
    "                for req in reqs\n",
    "                    req = strip(req, ' ')\n",
    "                    if length(req) > 0\n",
    "                        if !in(req, classes)\n",
    "                            push!(classes, req)\n",
    "                        end\n",
    "                        push!(relations, req => name)\n",
    "                    end\n",
    "                end\n",
    "            end\n",
    "        end\n",
    "    end\n",
    "    close(file)\n",
    "    return classes => relations\n",
    "end"
   ]
  },
  {
   "cell_type": "code",
   "execution_count": 209,
   "metadata": {},
   "outputs": [
    {
     "data": {
      "text/plain": [
       "Set([\"Humanities1\", \"Interdisciplinary-3\", \"Interdisciplinary-2\", \"Social/Behavioral1\", \"MAC2312\", \"ENC3246\", \"CNT4007\", \"CIS4930-1\", \"CIS4930-4\", \"COP3530\"  …  \"HumOrSocOrPhy1\", \"CIS4930-5\", \"MAS3114\", \"STA3032\", \"COP3502\", \"CDA3101\", \"CIS4930-2\", \"MAC2311\", \"CIS4930-3\", \"Social/Behavioral2\"]) => [\"MAC2311\" => \"MAC2312\", \"MAC2312\" => \"MAC2313\", \"MAC2312\" => \"MAS3114\", \"MAC2311\" => \"STA3032\", \"MAC2311\" => \"PHY2048/PHY2048L\", \"PHY2048/PHY2048L\" => \"PHY2049/PHY2049L\", \"MAC2313\" => \"PHY2049/PHY2049L\", \"MAC2311\" => \"COP3502\", \"MAC2311\" => \"COP3503\", \"COP3502\" => \"COP3503\"  …  \"COP4600\" => \"CNT4007\", \"COP3530\" => \"CIS4930-1\", \"COP3530\" => \"CIS4930-2\", \"COP3530\" => \"CIS4930-3\", \"COP3530\" => \"CIS4930-4\", \"COP3530\" => \"CIS4930-5\", \"Interdisciplinary-1\" => \"Interdisciplinary-2\", \"Interdisciplinary-2\" => \"Interdisciplinary-3\", \"Interdisciplinary-3\" => \"Interdisciplinary-4\", \"Interdisciplinary-4\" => \"Interdisciplinary-5\"]"
      ]
     },
     "metadata": {},
     "output_type": "display_data"
    }
   ],
   "source": [
    "cs = load_major(\"reqs/CS.reqs\")"
   ]
  },
  {
   "cell_type": "code",
   "execution_count": 210,
   "metadata": {},
   "outputs": [
    {
     "data": {
      "text/plain": [
       "top_sort (generic function with 2 methods)"
      ]
     },
     "metadata": {},
     "output_type": "display_data"
    }
   ],
   "source": [
    "function top_sort(vertices::Set{String}, edges::Vector{Pair{String,String}}, seed::Int = 0)\n",
    "    Random.seed!(seed)\n",
    "\n",
    "    l = []\n",
    "    q = Queue{String}()\n",
    "    d = Dict{String, Int}()\n",
    "\n",
    "    for v in vertices\n",
    "        d[v] = 0\n",
    "        for (a,b) in edges\n",
    "            if v == b && a != b\n",
    "                d[v]+=1\n",
    "            end\n",
    "        end\n",
    "    end\n",
    "\n",
    "\n",
    "    \n",
    "    # randomizes the starting order of the queue\n",
    "    for v in shuffle!(collect(vertices))\n",
    "        if d[v] == 0\n",
    "            enqueue!(q, v)\n",
    "        end\n",
    "    end\n",
    "\n",
    "\n",
    "    while !isempty(q)\n",
    "        v = dequeue!(q)\n",
    "        push!(l, v)\n",
    "\n",
    "        for (a,b) in shuffle!(collect(edges))\n",
    "            if v == a && a != b\n",
    "                d[b]-=1\n",
    "                if d[b] == 0\n",
    "                    enqueue!(q, b)\n",
    "                end\n",
    "            end\n",
    "        end\n",
    "    end\n",
    "    \n",
    "    return l\n",
    "end"
   ]
  },
  {
   "cell_type": "code",
   "execution_count": 211,
   "metadata": {},
   "outputs": [
    {
     "name": "stdout",
     "output_type": "stream",
     "text": [
      "MAC2311\n",
      "Social/Behavioral1\n",
      "EGS4034\n",
      "ENC3246\n",
      "Interdisciplinary-1\n",
      "Humanities2\n",
      "Social/Behavioral2\n",
      "HumOrSocOrPhy1\n",
      "Humanities1\n",
      "COP3502\n",
      "MAC2312\n",
      "PHY2048/PHY2048L\n",
      "STA3032\n",
      "Interdisciplinary-2\n",
      "COP3503\n",
      "MAS3114\n",
      "MAC2313\n",
      "Interdisciplinary-3\n",
      "COT3100\n",
      "PHY2049/PHY2049L\n",
      "Interdisciplinary-4\n",
      "CDA3101\n",
      "COP3530\n",
      "Interdisciplinary-5\n",
      "CIS4301\n",
      "COP4600\n",
      "CIS4930-1\n",
      "CIS4930-3\n",
      "COP4533\n",
      "CIS4930-4\n",
      "CIS4930-2\n",
      "COP4020\n",
      "CIS4930-5\n",
      "CEN3031\n",
      "CNT4007\n"
     ]
    }
   ],
   "source": [
    "for class in top_sort(cs.first, cs.second)\n",
    "    println(class)\n",
    "end"
   ]
  },
  {
   "cell_type": "code",
   "execution_count": 212,
   "metadata": {},
   "outputs": [
    {
     "data": {
      "text/plain": [
       "35-element Vector{Pair{String, String}}:\n",
       "             \"MAC2311\" => \"MAC2312\"\n",
       "             \"MAC2312\" => \"MAC2313\"\n",
       "             \"MAC2312\" => \"MAS3114\"\n",
       "             \"MAC2311\" => \"STA3032\"\n",
       "             \"MAC2311\" => \"PHY2048/PHY2048L\"\n",
       "    \"PHY2048/PHY2048L\" => \"PHY2049/PHY2049L\"\n",
       "             \"MAC2313\" => \"PHY2049/PHY2049L\"\n",
       "             \"MAC2311\" => \"COP3502\"\n",
       "             \"MAC2311\" => \"COP3503\"\n",
       "             \"COP3502\" => \"COP3503\"\n",
       "                       ⋮\n",
       "             \"COP3530\" => \"CIS4930-1\"\n",
       "             \"COP3530\" => \"CIS4930-2\"\n",
       "             \"COP3530\" => \"CIS4930-3\"\n",
       "             \"COP3530\" => \"CIS4930-4\"\n",
       "             \"COP3530\" => \"CIS4930-5\"\n",
       " \"Interdisciplinary-1\" => \"Interdisciplinary-2\"\n",
       " \"Interdisciplinary-2\" => \"Interdisciplinary-3\"\n",
       " \"Interdisciplinary-3\" => \"Interdisciplinary-4\"\n",
       " \"Interdisciplinary-4\" => \"Interdisciplinary-5\""
      ]
     },
     "metadata": {},
     "output_type": "display_data"
    }
   ],
   "source": [
    "cs.second"
   ]
  },
  {
   "cell_type": "code",
   "execution_count": 217,
   "metadata": {},
   "outputs": [
    {
     "data": {
      "text/plain": [
       "generate_schedule (generic function with 3 methods)"
      ]
     },
     "metadata": {},
     "output_type": "display_data"
    }
   ],
   "source": [
    "function find_one_offs(preorder::Preorder)\n",
    "    one_offs = Vector()\n",
    "    d = Dict()\n",
    "    for class in preorder.carrier\n",
    "        d[class] = true\n",
    "    end\n",
    "    for (a,b) in preorder.relation\n",
    "        if a != b\n",
    "            d[a] = false\n",
    "            d[b] = false\n",
    "        end\n",
    "    end\n",
    "    for (class, is_one_off) in d\n",
    "        if is_one_off\n",
    "            push!(one_offs, class)\n",
    "        end\n",
    "    end\n",
    "    return Set(one_offs)\n",
    "end\n",
    "\n",
    "function generate_schedule(preorder::Preorder, num_semesters::Int=8, seed::Int=0)\n",
    "    Random.seed!(seed)\n",
    "    classes = preorder.carrier\n",
    "    reqs = preorder.relation\n",
    "\n",
    "    full_schedule = Vector()\n",
    "\n",
    "    one_off_classes = find_one_offs(preorder)\n",
    "\n",
    "\n",
    "    # build dictionary of in counts like in topological sort\n",
    "    in_counts = Dict()\n",
    "    for class in preorder.carrier\n",
    "        if !(class in one_off_classes)\n",
    "            in_counts[class] = 0\n",
    "            for (a,b) in preorder.relation\n",
    "                if class == b && a != b\n",
    "                    in_counts[class]+=1\n",
    "                end\n",
    "            end\n",
    "        end\n",
    "    end\n",
    "\n",
    "\n",
    "    # schedule classes with prereqs\n",
    "    for index in 1:num_semesters\n",
    "        semester_schedule = Vector()\n",
    "\n",
    "        available_classes = Set(collect(in_counts))\n",
    "\n",
    "        # find bottoms\n",
    "        # marking them for deletion\n",
    "        for (class, in_count) in shuffle!(collect(available_classes))\n",
    "            if in_count == 0 && length(semester_schedule) < ceil(length(preorder.carrier)/num_semesters)\n",
    "                push!(semester_schedule, class)\n",
    "            end\n",
    "        end\n",
    "\n",
    "        # delete taken classes\n",
    "        for class in semester_schedule\n",
    "            for (a,b) in preorder.relation\n",
    "                if class == a\n",
    "                    in_counts[b]-=1\n",
    "                end\n",
    "            end\n",
    "            delete!(in_counts, class)\n",
    "        end\n",
    "        push!(full_schedule, semester_schedule)\n",
    "    end\n",
    "\n",
    "\n",
    "    println(in_counts)\n",
    "    # schedule classes with no prereqs\n",
    "    # prioritizing even credit distribution\n",
    "    while length(one_off_classes) > 0\n",
    "        # find semester with min number of credits\n",
    "        min_index = 1\n",
    "        for (index, semester) in enumerate(full_schedule)\n",
    "            if length(full_schedule[index]) < length(full_schedule[min_index])\n",
    "                min_index = index\n",
    "            end \n",
    "        end\n",
    "        class_to_add = collect(one_off_classes)[1]\n",
    "        push!(full_schedule[min_index], class_to_add)\n",
    "        delete!(one_off_classes, class_to_add)\n",
    "    end\n",
    "    if length(one_off_classes) > 0 || length(collect(in_counts)) > 0\n",
    "        throw(\"Cannot generate schedule!\")\n",
    "    end\n",
    "    return full_schedule\n",
    "end"
   ]
  },
  {
   "cell_type": "code",
   "execution_count": 218,
   "metadata": {},
   "outputs": [
    {
     "name": "stdout",
     "output_type": "stream",
     "text": [
      "Dict{Any, Any}()\n"
     ]
    },
    {
     "data": {
      "text/plain": [
       "8-element Vector{Any}:\n",
       " Any[\"MAC2311\", \"Interdisciplinary-1\", \"Social/Behavioral1\", \"HumOrSocOrPhy1\"]\n",
       " Any[\"PHY2048/PHY2048L\", \"MAC2312\", \"STA3032\", \"COP3502\", \"Interdisciplinary-2\"]\n",
       " Any[\"MAS3114\", \"Interdisciplinary-3\", \"COP3503\", \"MAC2313\"]\n",
       " Any[\"COT3100\", \"PHY2049/PHY2049L\", \"Interdisciplinary-4\", \"ENC3246\"]\n",
       " Any[\"CDA3101\", \"Interdisciplinary-5\", \"COP3530\", \"EGS4034\"]\n",
       " Any[\"CIS4930-3\", \"CIS4301\", \"CIS4930-5\", \"CIS4930-4\", \"COP4533\"]\n",
       " Any[\"CEN3031\", \"COP4020\", \"CIS4930-2\", \"COP4600\", \"CIS4930-1\"]\n",
       " Any[\"CNT4007\", \"Humanities1\", \"Humanities2\", \"Social/Behavioral2\"]"
      ]
     },
     "metadata": {},
     "output_type": "display_data"
    }
   ],
   "source": [
    "cs_preorder = Preorder(cs.first, cs.second)\n",
    "schedule = generate_schedule(cs_preorder, 8)"
   ]
  },
  {
   "cell_type": "code",
   "execution_count": 219,
   "metadata": {},
   "outputs": [
    {
     "name": "stdout",
     "output_type": "stream",
     "text": [
      "Dict{Any, Any}()\n"
     ]
    },
    {
     "data": {
      "text/plain": [
       "10-element Vector{Any}:\n",
       " Any[\"MAC2311\", \"Interdisciplinary-1\", \"ENC3246\"]\n",
       " Any[\"PHY2048/PHY2048L\", \"MAC2312\", \"STA3032\", \"COP3502\"]\n",
       " Any[\"MAS3114\", \"Interdisciplinary-2\", \"COP3503\", \"MAC2313\"]\n",
       " Any[\"COT3100\", \"Interdisciplinary-3\", \"PHY2049/PHY2049L\"]\n",
       " Any[\"COP3530\", \"Interdisciplinary-4\", \"CDA3101\"]\n",
       " Any[\"Interdisciplinary-5\", \"CIS4930-5\", \"CIS4930-2\", \"COP4600\"]\n",
       " Any[\"CNT4007\", \"CIS4930-4\", \"COP4533\", \"CIS4930-1\"]\n",
       " Any[\"CIS4930-3\", \"CIS4301\", \"COP4020\", \"CEN3031\"]\n",
       " Any[\"Humanities1\", \"Humanities2\", \"EGS4034\"]\n",
       " Any[\"Social/Behavioral1\", \"HumOrSocOrPhy1\", \"Social/Behavioral2\"]"
      ]
     },
     "metadata": {},
     "output_type": "display_data"
    }
   ],
   "source": [
    "schedule = generate_schedule(cs_preorder, 10)"
   ]
  },
  {
   "cell_type": "code",
   "execution_count": 216,
   "metadata": {},
   "outputs": [
    {
     "ename": "String",
     "evalue": "\"Cannot generate schedule!\"",
     "output_type": "error",
     "traceback": [
      "\"Cannot generate schedule!\"\n",
      "\n",
      "Stacktrace:\n",
      "  [1] generate_schedule(preorder::Preorder, num_semesters::Int64, seed::Int64)\n",
      "    @ Main c:\\Users\\gboic\\Dev\\Fall2021\\Abstraction Composition Computation\\Final Project\\Semester-Planner\\project.ipynb:87\n",
      "  [2] generate_schedule(preorder::Preorder, num_semesters::Int64)\n",
      "    @ Main c:\\Users\\gboic\\Dev\\Fall2021\\Abstraction Composition Computation\\Final Project\\Semester-Planner\\project.ipynb:22\n",
      "  [3] top-level scope\n",
      "    @ c:\\Users\\gboic\\Dev\\Fall2021\\Abstraction Composition Computation\\Final Project\\Semester-Planner\\project.ipynb:1\n",
      "  [4] eval\n",
      "    @ .\\boot.jl:360 [inlined]\n",
      "  [5] include_string(mapexpr::typeof(REPL.softscope), mod::Module, code::String, filename::String)\n",
      "    @ Base .\\loading.jl:1116\n",
      "  [6] #invokelatest#2\n",
      "    @ .\\essentials.jl:708 [inlined]\n",
      "  [7] invokelatest\n",
      "    @ .\\essentials.jl:706 [inlined]\n",
      "  [8] (::VSCodeServer.var\"#146#147\"{VSCodeServer.NotebookRunCellArguments, String})()\n",
      "    @ VSCodeServer c:\\Users\\gboic\\.vscode\\extensions\\julialang.language-julia-1.5.6\\scripts\\packages\\VSCodeServer\\src\\serve_notebook.jl:18\n",
      "  [9] withpath(f::VSCodeServer.var\"#146#147\"{VSCodeServer.NotebookRunCellArguments, String}, path::String)\n",
      "    @ VSCodeServer c:\\Users\\gboic\\.vscode\\extensions\\julialang.language-julia-1.5.6\\scripts\\packages\\VSCodeServer\\src\\repl.jl:185\n",
      " [10] notebook_runcell_request(conn::VSCodeServer.JSONRPC.JSONRPCEndpoint{Base.PipeEndpoint, Base.PipeEndpoint}, params::VSCodeServer.NotebookRunCellArguments)\n",
      "    @ VSCodeServer c:\\Users\\gboic\\.vscode\\extensions\\julialang.language-julia-1.5.6\\scripts\\packages\\VSCodeServer\\src\\serve_notebook.jl:14\n",
      " [11] dispatch_msg(x::VSCodeServer.JSONRPC.JSONRPCEndpoint{Base.PipeEndpoint, Base.PipeEndpoint}, dispatcher::VSCodeServer.JSONRPC.MsgDispatcher, msg::Dict{String, Any})\n",
      "    @ VSCodeServer.JSONRPC c:\\Users\\gboic\\.vscode\\extensions\\julialang.language-julia-1.5.6\\scripts\\packages\\JSONRPC\\src\\typed.jl:67\n",
      " [12] serve_notebook(pipename::String; crashreporting_pipename::String)\n",
      "    @ VSCodeServer c:\\Users\\gboic\\.vscode\\extensions\\julialang.language-julia-1.5.6\\scripts\\packages\\VSCodeServer\\src\\serve_notebook.jl:94\n",
      " [13] top-level scope\n",
      "    @ c:\\Users\\gboic\\.vscode\\extensions\\julialang.language-julia-1.5.6\\scripts\\notebook\\notebook.jl:12\n",
      " [14] include(mod::Module, _path::String)\n",
      "    @ Base .\\Base.jl:386\n",
      " [15] exec_options(opts::Base.JLOptions)\n",
      "    @ Base .\\client.jl:285\n",
      " [16] _start()\n",
      "    @ Base .\\client.jl:485"
     ]
    }
   ],
   "source": [
    "schedule = generate_schedule(cs_preorder, 6)"
   ]
  }
 ],
 "metadata": {
  "kernelspec": {
   "display_name": "Julia 1.6.2",
   "language": "julia",
   "name": "julia-1.6"
  },
  "language_info": {
   "file_extension": ".jl",
   "mimetype": "application/julia",
   "name": "julia",
   "version": "1.6.2"
  },
  "orig_nbformat": 4
 },
 "nbformat": 4,
 "nbformat_minor": 2
}
