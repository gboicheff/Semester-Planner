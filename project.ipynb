{
 "cells": [
  {
   "cell_type": "code",
   "execution_count": 134,
   "metadata": {},
   "outputs": [],
   "source": [
    "using Catlab\n",
    "using Catlab.CategoricalAlgebra\n",
    "using Catlab.Graphs\n",
    "using Catlab.Graphs.BasicGraphs\n",
    "using Catlab.Graphics\n",
    "using Catlab.Graphics.Graphviz\n",
    "using Catlab.Graphics.GraphvizGraphs\n",
    "using Catlab.Graphs.PropertyGraphs\n",
    "using Catlab.CategoricalAlgebra.CSets\n",
    "using Catlab.CategoricalAlgebra.FinSets, Catlab.CategoricalAlgebra\n",
    "using DataStructures\n",
    "using Colors\n",
    "using Random"
   ]
  },
  {
   "cell_type": "code",
   "execution_count": 135,
   "metadata": {},
   "outputs": [
    {
     "data": {
      "text/plain": [
       "draw (generic function with 1 method)"
      ]
     },
     "metadata": {},
     "output_type": "display_data"
    }
   ],
   "source": [
    "draw(g) = to_graphviz(g, node_labels=true)"
   ]
  },
  {
   "cell_type": "code",
   "execution_count": 136,
   "metadata": {},
   "outputs": [],
   "source": [
    "struct Preorder\n",
    "  carrier:: FinSet\n",
    "  relation :: SortedSet{Pair{Int,Int}}\n",
    "  \"\"\"Construct valid preorder by taking reflexive/transitive closure\"\"\"\n",
    "  function Preorder(carrier:: FinSet, rel :: Vector{Pair{Int,Int}})\n",
    "    for (a,b) ∈ rel\n",
    "      a ∈ carrier && b ∈ carrier || error(\"relation element not in carrier set\")\n",
    "    end\n",
    "    relation = SortedSet(rel)\n",
    "    for (a, b, c) in Iterators.product(carrier, carrier, carrier)\n",
    "      if ((a => b) ∈ relation) && ((b => c) ∈ relation)\n",
    "        push!(relation, a => c) # enforces relation is transitive\n",
    "      end\n",
    "    end\n",
    "    for i in carrier\n",
    "      push!(relation, i => i) # enforces that relation is reflexive\n",
    "    end\n",
    "    return new(carrier, relation)\n",
    "  end\n",
    "end"
   ]
  },
  {
   "cell_type": "code",
   "execution_count": 137,
   "metadata": {},
   "outputs": [
    {
     "data": {
      "text/plain": [
       "load_major (generic function with 1 method)"
      ]
     },
     "metadata": {},
     "output_type": "display_data"
    }
   ],
   "source": [
    "function load_major(path::String)\n",
    "\n",
    "    file = open(path, \"r\")\n",
    "\n",
    "    num_to_class = Dict()\n",
    "    class_to_num = Dict()\n",
    "\n",
    "    relations = Vector{Pair{Int, Int}}()\n",
    "\n",
    "    num_classes = 0\n",
    "    while !eof(file)\n",
    "        line = readline(file)\n",
    "        if length(strip(line, ' ')) != 0\n",
    "            sp = split(line, \":\")\n",
    "\n",
    "            if length(sp) >= 1\n",
    "                name = strip(sp[1], ' ')\n",
    "                num_classes+=1\n",
    "                num_to_class[num_classes] = string(name)\n",
    "                class_to_num[string(name)] = num_classes\n",
    "            end\n",
    "\n",
    "            if length(sp) >= 2\n",
    "                reqs_str = strip(sp[2], ['[', ']', ' '])\n",
    "                reqs = split(reqs_str, \",\")\n",
    "                \n",
    "                for req in reqs\n",
    "                    req = strip(req, ' ')\n",
    "                    if length(req) > 0\n",
    "                        if !haskey(class_to_num, req)\n",
    "                            num_classes+=1\n",
    "                            num_to_class[num_classes] = string(req)\n",
    "                            class_to_num[string(req)] = num_classes\n",
    "                        end\n",
    "                        push!(relations, class_to_num[req] => class_to_num[name])\n",
    "                    end\n",
    "                end\n",
    "            end\n",
    "        end\n",
    "    end\n",
    "\n",
    "    close(file)\n",
    "\n",
    "\n",
    "    return (Preorder(FinSet(num_classes),relations), num_to_class)\n",
    "end"
   ]
  },
  {
   "cell_type": "code",
   "execution_count": 138,
   "metadata": {},
   "outputs": [
    {
     "data": {
      "text/plain": [
       "35-element Vector{Int64}:\n",
       "  1\n",
       "  2\n",
       "  3\n",
       "  4\n",
       "  5\n",
       "  6\n",
       "  7\n",
       "  8\n",
       "  9\n",
       " 10\n",
       "  ⋮\n",
       " 27\n",
       " 28\n",
       " 29\n",
       " 30\n",
       " 31\n",
       " 32\n",
       " 33\n",
       " 34\n",
       " 35"
      ]
     },
     "metadata": {},
     "output_type": "display_data"
    }
   ],
   "source": [
    "cs, cs_mappings = load_major(\"reqs/CS.reqs\")\n",
    "collect(cs.carrier)"
   ]
  },
  {
   "cell_type": "code",
   "execution_count": 139,
   "metadata": {},
   "outputs": [
    {
     "data": {
      "text/plain": [
       "top_sort (generic function with 2 methods)"
      ]
     },
     "metadata": {},
     "output_type": "display_data"
    }
   ],
   "source": [
    "function top_sort(preorder::Preorder, seed::Int = 0)\n",
    "    vertices = preorder.carrier\n",
    "    edges = preorder.relation\n",
    "    Random.seed!(seed)\n",
    "\n",
    "    l = []\n",
    "    q = Queue{String}()\n",
    "    d = Dict{String, Int}()\n",
    "\n",
    "    for v in vertices\n",
    "        d[v] = 0\n",
    "        for (a,b) in edges\n",
    "            if v == b && a != b\n",
    "                d[v]+=1\n",
    "            end\n",
    "        end\n",
    "    end\n",
    "\n",
    "\n",
    "    \n",
    "    # randomizes the starting order of the queue\n",
    "    for v in shuffle!(collect(vertices))\n",
    "        if d[v] == 0\n",
    "            enqueue!(q, v)\n",
    "        end\n",
    "    end\n",
    "\n",
    "\n",
    "    while !isempty(q)\n",
    "        v = dequeue!(q)\n",
    "        push!(l, v)\n",
    "\n",
    "        for (a,b) in shuffle!(collect(edges))\n",
    "            if v == a && a != b\n",
    "                d[b]-=1\n",
    "                if d[b] == 0\n",
    "                    enqueue!(q, b)\n",
    "                end\n",
    "            end\n",
    "        end\n",
    "    end\n",
    "    \n",
    "    return l\n",
    "end"
   ]
  },
  {
   "cell_type": "code",
   "execution_count": 140,
   "metadata": {},
   "outputs": [
    {
     "ename": "MethodError",
     "evalue": "MethodError: Cannot `convert` an object of type Int64 to an object of type String\nClosest candidates are:\n  convert(::Type{String}, !Matched::String) at essentials.jl:210\n  convert(::Type{T}, !Matched::T) where T<:AbstractString at strings/basic.jl:231\n  convert(::Type{T}, !Matched::AbstractString) where T<:AbstractString at strings/basic.jl:232\n  ...",
     "output_type": "error",
     "traceback": [
      "MethodError: Cannot `convert` an object of type Int64 to an object of type String\n",
      "Closest candidates are:\n",
      "  convert(::Type{String}, !Matched::String) at essentials.jl:210\n",
      "  convert(::Type{T}, !Matched::T) where T<:AbstractString at strings/basic.jl:231\n",
      "  convert(::Type{T}, !Matched::AbstractString) where T<:AbstractString at strings/basic.jl:232\n",
      "  ...\n",
      "\n",
      "Stacktrace:\n",
      "  [1] setindex!(h::Dict{String, Int64}, v0::Int64, key0::Int64)\n",
      "    @ Base .\\dict.jl:374\n",
      "  [2] top_sort(preorder::Preorder, seed::Int64)\n",
      "    @ Main c:\\Users\\gboic\\Dev\\Fall2021\\Abstraction Composition Computation\\Final Project\\Semester-Planner\\project.ipynb:11\n",
      "  [3] top_sort\n",
      "    @ c:\\Users\\gboic\\Dev\\Fall2021\\Abstraction Composition Computation\\Final Project\\Semester-Planner\\project.ipynb:2 [inlined]\n",
      "  [4] top-level scope\n",
      "    @ c:\\Users\\gboic\\Dev\\Fall2021\\Abstraction Composition Computation\\Final Project\\Semester-Planner\\project.ipynb:1\n",
      "  [5] eval\n",
      "    @ .\\boot.jl:360 [inlined]\n",
      "  [6] include_string(mapexpr::typeof(REPL.softscope), mod::Module, code::String, filename::String)\n",
      "    @ Base .\\loading.jl:1116\n",
      "  [7] #invokelatest#2\n",
      "    @ .\\essentials.jl:708 [inlined]\n",
      "  [8] invokelatest\n",
      "    @ .\\essentials.jl:706 [inlined]\n",
      "  [9] (::VSCodeServer.var\"#146#147\"{VSCodeServer.NotebookRunCellArguments, String})()\n",
      "    @ VSCodeServer c:\\Users\\gboic\\.vscode\\extensions\\julialang.language-julia-1.5.6\\scripts\\packages\\VSCodeServer\\src\\serve_notebook.jl:18\n",
      " [10] withpath(f::VSCodeServer.var\"#146#147\"{VSCodeServer.NotebookRunCellArguments, String}, path::String)\n",
      "    @ VSCodeServer c:\\Users\\gboic\\.vscode\\extensions\\julialang.language-julia-1.5.6\\scripts\\packages\\VSCodeServer\\src\\repl.jl:185\n",
      " [11] notebook_runcell_request(conn::VSCodeServer.JSONRPC.JSONRPCEndpoint{Base.PipeEndpoint, Base.PipeEndpoint}, params::VSCodeServer.NotebookRunCellArguments)\n",
      "    @ VSCodeServer c:\\Users\\gboic\\.vscode\\extensions\\julialang.language-julia-1.5.6\\scripts\\packages\\VSCodeServer\\src\\serve_notebook.jl:14\n",
      " [12] dispatch_msg(x::VSCodeServer.JSONRPC.JSONRPCEndpoint{Base.PipeEndpoint, Base.PipeEndpoint}, dispatcher::VSCodeServer.JSONRPC.MsgDispatcher, msg::Dict{String, Any})\n",
      "    @ VSCodeServer.JSONRPC c:\\Users\\gboic\\.vscode\\extensions\\julialang.language-julia-1.5.6\\scripts\\packages\\JSONRPC\\src\\typed.jl:67\n",
      " [13] serve_notebook(pipename::String; crashreporting_pipename::String)\n",
      "    @ VSCodeServer c:\\Users\\gboic\\.vscode\\extensions\\julialang.language-julia-1.5.6\\scripts\\packages\\VSCodeServer\\src\\serve_notebook.jl:94\n",
      " [14] top-level scope\n",
      "    @ c:\\Users\\gboic\\.vscode\\extensions\\julialang.language-julia-1.5.6\\scripts\\notebook\\notebook.jl:12\n",
      " [15] include(mod::Module, _path::String)\n",
      "    @ Base .\\Base.jl:386\n",
      " [16] exec_options(opts::Base.JLOptions)\n",
      "    @ Base .\\client.jl:285\n",
      " [17] _start()\n",
      "    @ Base .\\client.jl:485"
     ]
    }
   ],
   "source": [
    "for class in top_sort(cs)\n",
    "    println(class)\n",
    "end"
   ]
  },
  {
   "cell_type": "code",
   "execution_count": 141,
   "metadata": {},
   "outputs": [
    {
     "data": {
      "text/plain": [
       "generate_schedule (generic function with 3 methods)"
      ]
     },
     "metadata": {},
     "output_type": "display_data"
    }
   ],
   "source": [
    "function find_one_offs(preorder::Preorder)\n",
    "    one_offs = Vector()\n",
    "    d = Dict()\n",
    "    for class in collect(preorder.carrier)\n",
    "        d[class] = true\n",
    "    end\n",
    "    for (a,b) in preorder.relation\n",
    "        if a != b\n",
    "            d[a] = false\n",
    "            d[b] = false\n",
    "        end\n",
    "    end\n",
    "    for (class, is_one_off) in d\n",
    "        if is_one_off\n",
    "            push!(one_offs, class)\n",
    "        end\n",
    "    end\n",
    "    return Set(one_offs)\n",
    "end\n",
    "\n",
    "function generate_schedule(preorder::Preorder, num_semesters::Int=8, seed::Int=0)\n",
    "    Random.seed!(seed)\n",
    "\n",
    "    classes = collect(preorder.carrier)\n",
    "    reqs = preorder.relation\n",
    "\n",
    "    full_schedule = Vector()\n",
    "\n",
    "    one_off_classes = find_one_offs(preorder)\n",
    "\n",
    "\n",
    "    # build dictionary of in counts like in topological sort\n",
    "    in_counts = Dict()\n",
    "    for class in classes\n",
    "        if !(class in one_off_classes)\n",
    "            in_counts[class] = 0\n",
    "            for (a,b) in preorder.relation\n",
    "                if class == b && a != b\n",
    "                    in_counts[class]+=1\n",
    "                end\n",
    "            end\n",
    "        end\n",
    "    end\n",
    "\n",
    "\n",
    "    # schedule classes with prereqs\n",
    "    for index in 1:num_semesters\n",
    "        semester_schedule = Vector()\n",
    "\n",
    "        available_classes = Set(collect(in_counts))\n",
    "\n",
    "        # find bottoms\n",
    "        # marking them for deletion\n",
    "        for (class, in_count) in shuffle!(collect(available_classes))\n",
    "            if in_count == 0 && length(semester_schedule) < ceil(length(preorder.carrier)/num_semesters)\n",
    "                push!(semester_schedule, class)\n",
    "            end\n",
    "        end\n",
    "\n",
    "        # delete taken classes\n",
    "        for class in semester_schedule\n",
    "            for (a,b) in preorder.relation\n",
    "                if class == a\n",
    "                    in_counts[b]-=1\n",
    "                end\n",
    "            end\n",
    "            delete!(in_counts, class)\n",
    "        end\n",
    "        push!(full_schedule, semester_schedule)\n",
    "    end\n",
    "\n",
    "\n",
    "    # schedule classes with no prereqs\n",
    "    # prioritizing even credit distribution\n",
    "    while length(one_off_classes) > 0\n",
    "        \n",
    "        # find semester with min number of credits\n",
    "        min_index = 1\n",
    "        for (index, semester) in enumerate(full_schedule)\n",
    "            if length(full_schedule[index]) < length(full_schedule[min_index])\n",
    "                min_index = index\n",
    "            end \n",
    "        end\n",
    "        class_to_add = collect(one_off_classes)[1]\n",
    "        push!(full_schedule[min_index], class_to_add)\n",
    "        delete!(one_off_classes, class_to_add)\n",
    "    end\n",
    "\n",
    "    if length(one_off_classes) > 0 || length(collect(in_counts)) > 0\n",
    "        throw(\"Cannot generate schedule!\")\n",
    "    end\n",
    "\n",
    "    return full_schedule\n",
    "end"
   ]
  },
  {
   "cell_type": "code",
   "execution_count": 156,
   "metadata": {},
   "outputs": [
    {
     "data": {
      "text/plain": [
       "8-element Vector{Any}:\n",
       " Any[\"Interdisciplinary-1\", \"MAC2311\", \"Social/Behavioral2\", \"Social/Behavioral1\"]\n",
       " Any[\"MAC2312\", \"PHY2048/PHY2048L\", \"Interdisciplinary-2\", \"STA3032\", \"COP3502\"]\n",
       " Any[\"Interdisciplinary-3\", \"MAC2313\", \"MAS3114\", \"COP3503\"]\n",
       " Any[\"PHY2049/PHY2049L\", \"COT3100\", \"Interdisciplinary-4\", \"EGS4034\"]\n",
       " Any[\"CDA3101\", \"COP3530\", \"Interdisciplinary-5\", \"Humanities1\"]\n",
       " Any[\"COP4020\", \"CIS4930-2\", \"CIS4930-4\", \"COP4600\", \"CIS4301\"]\n",
       " Any[\"CIS4930-5\", \"CIS4930-3\", \"CIS4930-1\", \"COP4533\", \"CNT4007\"]\n",
       " Any[\"CEN3031\", \"Humanities2\", \"HumOrSocOrPhy1\", \"ENC3246\"]"
      ]
     },
     "metadata": {},
     "output_type": "display_data"
    }
   ],
   "source": [
    "function convert_to_readable(schedule, mapping)\n",
    "    for (i,semester_schedule) in enumerate(schedule)\n",
    "        for (j,semester_schedule) in enumerate(semester_schedule)\n",
    "            schedule[i][j] = mapping[schedule[i][j]]\n",
    "        end\n",
    "    end\n",
    "    return schedule\n",
    "end\n",
    "schedule = convert_to_readable(generate_schedule(cs, 8), cs_mappings)"
   ]
  },
  {
   "cell_type": "code",
   "execution_count": 157,
   "metadata": {},
   "outputs": [
    {
     "data": {
      "text/plain": [
       "10-element Vector{Any}:\n",
       " Any[\"Interdisciplinary-1\", \"MAC2311\", \"HumOrSocOrPhy1\", \"ENC3246\"]\n",
       " Any[\"MAC2312\", \"PHY2048/PHY2048L\", \"Interdisciplinary-2\", \"STA3032\"]\n",
       " Any[\"MAC2313\", \"MAS3114\", \"Interdisciplinary-3\", \"COP3502\"]\n",
       " Any[\"PHY2049/PHY2049L\", \"COP3503\", \"Interdisciplinary-4\"]\n",
       " Any[\"Interdisciplinary-5\", \"COT3100\", \"Social/Behavioral1\"]\n",
       " Any[\"CDA3101\", \"COP3530\", \"EGS4034\"]\n",
       " Any[\"COP4020\", \"COP4533\", \"CEN3031\", \"CIS4930-4\"]\n",
       " Any[\"CIS4301\", \"COP4600\", \"CIS4930-1\", \"CIS4930-2\"]\n",
       " Any[\"CIS4930-3\", \"CNT4007\", \"CIS4930-5\"]\n",
       " Any[\"Humanities2\", \"Social/Behavioral2\", \"Humanities1\"]"
      ]
     },
     "metadata": {},
     "output_type": "display_data"
    }
   ],
   "source": [
    "schedule = convert_to_readable(generate_schedule(cs, 10), cs_mappings)"
   ]
  },
  {
   "cell_type": "code",
   "execution_count": 158,
   "metadata": {},
   "outputs": [
    {
     "data": {
      "text/plain": [
       "10-element Vector{Any}:\n",
       " Any[\"Interdisciplinary-1\", \"MAC2311\", \"HumOrSocOrPhy1\", \"ENC3246\"]\n",
       " Any[\"MAC2312\", \"PHY2048/PHY2048L\", \"Interdisciplinary-2\", \"STA3032\"]\n",
       " Any[\"MAC2313\", \"MAS3114\", \"Interdisciplinary-3\", \"COP3502\"]\n",
       " Any[\"PHY2049/PHY2049L\", \"COP3503\", \"Interdisciplinary-4\"]\n",
       " Any[\"Interdisciplinary-5\", \"COT3100\", \"Social/Behavioral1\"]\n",
       " Any[\"CDA3101\", \"COP3530\", \"EGS4034\"]\n",
       " Any[\"COP4020\", \"COP4533\", \"CEN3031\", \"CIS4930-4\"]\n",
       " Any[\"CIS4301\", \"COP4600\", \"CIS4930-1\", \"CIS4930-2\"]\n",
       " Any[\"CIS4930-3\", \"CNT4007\", \"CIS4930-5\"]\n",
       " Any[\"Humanities2\", \"Social/Behavioral2\", \"Humanities1\"]"
      ]
     },
     "metadata": {},
     "output_type": "display_data"
    }
   ],
   "source": [
    "schedule = convert_to_readable(generate_schedule(cs, 10), cs_mappings)"
   ]
  },
  {
   "cell_type": "code",
   "execution_count": 145,
   "metadata": {},
   "outputs": [
    {
     "data": {
      "text/plain": [
       "read_plan (generic function with 1 method)"
      ]
     },
     "metadata": {},
     "output_type": "display_data"
    }
   ],
   "source": [
    "function output_plan(schedule, file_path::String)\n",
    "    file = open(file_path, \"w\")\n",
    "    for semester_schedule in schedule\n",
    "        for (index, class) in enumerate(semester_schedule)\n",
    "            if index == length(semester_schedule)\n",
    "                print(file, class)\n",
    "            else\n",
    "                print(file, class * \", \")\n",
    "            end\n",
    "        end\n",
    "        println(file, \"\")\n",
    "    end\n",
    "    close(file)\n",
    "end\n",
    "\n",
    "function read_plan(file_path::String)\n",
    "    lines = readlines(file_path)\n",
    "    schedule = Vector()\n",
    "    for line in lines\n",
    "        semester_schedule = Vector()\n",
    "        classes = split(line, \", \")\n",
    "        for class in classes\n",
    "            push!(semester_schedule, class)\n",
    "        end\n",
    "        push!(schedule, semester_schedule)\n",
    "    end\n",
    "    return schedule\n",
    "end"
   ]
  },
  {
   "cell_type": "code",
   "execution_count": 146,
   "metadata": {},
   "outputs": [
    {
     "ename": "MethodError",
     "evalue": "MethodError: no method matching *(::Int64, ::String)\nClosest candidates are:\n  *(::Any, ::Any, !Matched::Any, !Matched::Any...) at operators.jl:560\n  *(::T, !Matched::T) where T<:Union{Int128, Int16, Int32, Int64, Int8, UInt128, UInt16, UInt32, UInt64, UInt8} at int.jl:88\n  *(!Matched::Union{AbstractChar, AbstractString}, ::Union{AbstractChar, AbstractString}...) at strings/basic.jl:260\n  ...",
     "output_type": "error",
     "traceback": [
      "MethodError: no method matching *(::Int64, ::String)\n",
      "Closest candidates are:\n",
      "  *(::Any, ::Any, !Matched::Any, !Matched::Any...) at operators.jl:560\n",
      "  *(::T, !Matched::T) where T<:Union{Int128, Int16, Int32, Int64, Int8, UInt128, UInt16, UInt32, UInt64, UInt8} at int.jl:88\n",
      "  *(!Matched::Union{AbstractChar, AbstractString}, ::Union{AbstractChar, AbstractString}...) at strings/basic.jl:260\n",
      "  ...\n",
      "\n",
      "Stacktrace:\n",
      "  [1] output_plan(schedule::Vector{Any}, file_path::String)\n",
      "    @ Main c:\\Users\\gboic\\Dev\\Fall2021\\Abstraction Composition Computation\\Final Project\\Semester-Planner\\project.ipynb:8\n",
      "  [2] top-level scope\n",
      "    @ c:\\Users\\gboic\\Dev\\Fall2021\\Abstraction Composition Computation\\Final Project\\Semester-Planner\\project.ipynb:2\n",
      "  [3] eval\n",
      "    @ .\\boot.jl:360 [inlined]\n",
      "  [4] include_string(mapexpr::typeof(REPL.softscope), mod::Module, code::String, filename::String)\n",
      "    @ Base .\\loading.jl:1116\n",
      "  [5] #invokelatest#2\n",
      "    @ .\\essentials.jl:708 [inlined]\n",
      "  [6] invokelatest\n",
      "    @ .\\essentials.jl:706 [inlined]\n",
      "  [7] (::VSCodeServer.var\"#146#147\"{VSCodeServer.NotebookRunCellArguments, String})()\n",
      "    @ VSCodeServer c:\\Users\\gboic\\.vscode\\extensions\\julialang.language-julia-1.5.6\\scripts\\packages\\VSCodeServer\\src\\serve_notebook.jl:18\n",
      "  [8] withpath(f::VSCodeServer.var\"#146#147\"{VSCodeServer.NotebookRunCellArguments, String}, path::String)\n",
      "    @ VSCodeServer c:\\Users\\gboic\\.vscode\\extensions\\julialang.language-julia-1.5.6\\scripts\\packages\\VSCodeServer\\src\\repl.jl:185\n",
      "  [9] notebook_runcell_request(conn::VSCodeServer.JSONRPC.JSONRPCEndpoint{Base.PipeEndpoint, Base.PipeEndpoint}, params::VSCodeServer.NotebookRunCellArguments)\n",
      "    @ VSCodeServer c:\\Users\\gboic\\.vscode\\extensions\\julialang.language-julia-1.5.6\\scripts\\packages\\VSCodeServer\\src\\serve_notebook.jl:14\n",
      " [10] dispatch_msg(x::VSCodeServer.JSONRPC.JSONRPCEndpoint{Base.PipeEndpoint, Base.PipeEndpoint}, dispatcher::VSCodeServer.JSONRPC.MsgDispatcher, msg::Dict{String, Any})\n",
      "    @ VSCodeServer.JSONRPC c:\\Users\\gboic\\.vscode\\extensions\\julialang.language-julia-1.5.6\\scripts\\packages\\JSONRPC\\src\\typed.jl:67\n",
      " [11] serve_notebook(pipename::String; crashreporting_pipename::String)\n",
      "    @ VSCodeServer c:\\Users\\gboic\\.vscode\\extensions\\julialang.language-julia-1.5.6\\scripts\\packages\\VSCodeServer\\src\\serve_notebook.jl:94\n",
      " [12] top-level scope\n",
      "    @ c:\\Users\\gboic\\.vscode\\extensions\\julialang.language-julia-1.5.6\\scripts\\notebook\\notebook.jl:12\n",
      " [13] include(mod::Module, _path::String)\n",
      "    @ Base .\\Base.jl:386\n",
      " [14] exec_options(opts::Base.JLOptions)\n",
      "    @ Base .\\client.jl:285\n",
      " [15] _start()\n",
      "    @ Base .\\client.jl:485"
     ]
    }
   ],
   "source": [
    "schedule = generate_schedule(cs, 8)\n",
    "output_plan(schedule, \"semester_plans/example1.plan\")"
   ]
  },
  {
   "cell_type": "code",
   "execution_count": 147,
   "metadata": {},
   "outputs": [
    {
     "data": {
      "text/plain": [
       "Any[]"
      ]
     },
     "metadata": {},
     "output_type": "display_data"
    }
   ],
   "source": [
    "schedule = read_plan(\"semester_plans/example1.plan\")"
   ]
  },
  {
   "cell_type": "code",
   "execution_count": 66,
   "metadata": {},
   "outputs": [
    {
     "data": {
      "text/plain": [
       "is_monotone (generic function with 1 method)"
      ]
     },
     "execution_count": 66,
     "metadata": {},
     "output_type": "execute_result"
    }
   ],
   "source": [
    "struct Monotone_map\n",
    "    domain::Preorder\n",
    "    codomain::Preorder\n",
    "    mapping::FinFunction\n",
    "    function Monotone_map(domain::Preorder, cod::Preorder, mapping::FinFunction)\n",
    "      ((dom(mapping) == domain.carrier) && (codom(mapping) == cod.carrier)\n",
    "      ) || error(\"mapping mismatch\")\n",
    "      return new(domain,cod,mapping)\n",
    "    end\n",
    "  end\n",
    "\n",
    "\n",
    "function is_monotone(mm::Monotone_map)::Bool\n",
    "    for comp in mm.domain.relation\n",
    "        mapL = mm.mapping(comp.first)\n",
    "        mapR = mm.mapping(comp.second)\n",
    "        mono=false\n",
    "        \n",
    "        if(comp.first == comp.second) #reflexive relation\n",
    "          continue\n",
    "        end\n",
    "        if(mapL == mapR) #pre req and class taken in same semeester\n",
    "          return false;\n",
    "        end\n",
    "\n",
    "        for comparison in mm.codomain.relation\n",
    "\n",
    "            if(mapL == comparison.first && mapR == comparison.second)\n",
    "                mono=true\n",
    "            end\n",
    "        end\n",
    "        if(!mono)\n",
    "            return false\n",
    "        end\n",
    "    end\n",
    "    return true\n",
    "end\n",
    "\n",
    "\n",
    "\n"
   ]
  }
 ],
 "metadata": {
  "kernelspec": {
   "display_name": "Julia 1.6.2",
   "language": "julia",
   "name": "julia-1.6"
  },
  "language_info": {
   "file_extension": ".jl",
   "mimetype": "application/julia",
   "name": "julia",
   "version": "1.6.2"
  },
  "orig_nbformat": 4
 },
 "nbformat": 4,
 "nbformat_minor": 2
}
